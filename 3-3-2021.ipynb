{
 "cells": [
  {
   "cell_type": "markdown",
   "id": "israeli-graphic",
   "metadata": {},
   "source": [
    "## First, testing our Azure endpoint"
   ]
  },
  {
   "cell_type": "code",
   "execution_count": 1,
   "id": "humanitarian-vulnerability",
   "metadata": {},
   "outputs": [],
   "source": [
    "import requests"
   ]
  },
  {
   "cell_type": "code",
   "execution_count": 2,
   "id": "intense-bedroom",
   "metadata": {},
   "outputs": [],
   "source": [
    "test_data = {\n",
    "    'age': 45.0,\n",
    "    'sex': 1.0,\n",
    "    'chest_pain': 4.0,\n",
    "    'blood_pressure': 115.0,\n",
    "    'serum_cholestoral': 260.0,\n",
    "    'fasting_blood_sugar': 0.0,\n",
    "    'electrocardiographic': 2.0,\n",
    "    'max_heart_rate': 185.0,\n",
    "    'induced_angina': 0.0,\n",
    "    'ST_depression': 0.0,\n",
    "    'slope': 1.0,\n",
    "    'vessels': 0.0,\n",
    "    'thal': 3.0,\n",
    "}"
   ]
  },
  {
   "cell_type": "code",
   "execution_count": 3,
   "id": "expired-aviation",
   "metadata": {},
   "outputs": [],
   "source": [
    "#base_url = 'https://mytestmlappnkf.azurewebsites.net'\n",
    "base_url = 'https://mytestmlappcd.azurewebsites.net'"
   ]
  },
  {
   "cell_type": "code",
   "execution_count": 4,
   "id": "sapphire-million",
   "metadata": {},
   "outputs": [],
   "source": [
    "r = requests.get(base_url)"
   ]
  },
  {
   "cell_type": "code",
   "execution_count": 5,
   "id": "emerging-campus",
   "metadata": {},
   "outputs": [
    {
     "data": {
      "text/plain": [
       "'App is Healthy'"
      ]
     },
     "execution_count": 5,
     "metadata": {},
     "output_type": "execute_result"
    }
   ],
   "source": [
    "r.text"
   ]
  },
  {
   "cell_type": "code",
   "execution_count": 6,
   "id": "younger-suffering",
   "metadata": {},
   "outputs": [],
   "source": [
    "#neural_url = 'https://mytestmlappnkf.azurewebsites.net/neural'\n",
    "neural_url = 'https://mytestmlappcd.azurewebsites.net/neural'"
   ]
  },
  {
   "cell_type": "code",
   "execution_count": 7,
   "id": "frozen-bench",
   "metadata": {},
   "outputs": [],
   "source": [
    "r = requests.post(neural_url, json = test_data)"
   ]
  },
  {
   "cell_type": "code",
   "execution_count": 8,
   "id": "advance-american",
   "metadata": {},
   "outputs": [
    {
     "data": {
      "text/plain": [
       "0"
      ]
     },
     "execution_count": 8,
     "metadata": {},
     "output_type": "execute_result"
    }
   ],
   "source": [
    "r.json() "
   ]
  },
  {
   "cell_type": "markdown",
   "id": "automated-tamil",
   "metadata": {},
   "source": [
    "## Data for Mini-Project"
   ]
  },
  {
   "cell_type": "code",
   "execution_count": 9,
   "id": "sustainable-morning",
   "metadata": {},
   "outputs": [],
   "source": [
    "import pathlib\n",
    "\n",
    "import matplotlib.pyplot as plt\n",
    "import pandas as pd\n",
    "pd.set_option('display.max_columns', None)\n",
    "\n",
    "%config Completer.use_jedi = False"
   ]
  },
  {
   "cell_type": "markdown",
   "id": "collected-melbourne",
   "metadata": {},
   "source": [
    "https://www.kaggle.com/adammaus/predicting-churn-for-bank-customers?select=Churn_Modelling.csv"
   ]
  },
  {
   "cell_type": "code",
   "execution_count": 10,
   "id": "painful-turkey",
   "metadata": {},
   "outputs": [],
   "source": [
    "data_path = pathlib.Path('data', 'train.csv')\n",
    "data = pd.read_csv(data_path)"
   ]
  },
  {
   "cell_type": "code",
   "execution_count": 11,
   "id": "hourly-england",
   "metadata": {},
   "outputs": [
    {
     "data": {
      "text/html": [
       "<div>\n",
       "<style scoped>\n",
       "    .dataframe tbody tr th:only-of-type {\n",
       "        vertical-align: middle;\n",
       "    }\n",
       "\n",
       "    .dataframe tbody tr th {\n",
       "        vertical-align: top;\n",
       "    }\n",
       "\n",
       "    .dataframe thead th {\n",
       "        text-align: right;\n",
       "    }\n",
       "</style>\n",
       "<table border=\"1\" class=\"dataframe\">\n",
       "  <thead>\n",
       "    <tr style=\"text-align: right;\">\n",
       "      <th></th>\n",
       "      <th>CreditScore</th>\n",
       "      <th>Geography</th>\n",
       "      <th>Gender</th>\n",
       "      <th>Age</th>\n",
       "      <th>Tenure</th>\n",
       "      <th>Balance</th>\n",
       "      <th>NumOfProducts</th>\n",
       "      <th>HasCrCard</th>\n",
       "      <th>IsActiveMember</th>\n",
       "      <th>EstimatedSalary</th>\n",
       "      <th>Exited</th>\n",
       "    </tr>\n",
       "  </thead>\n",
       "  <tbody>\n",
       "    <tr>\n",
       "      <th>0</th>\n",
       "      <td>597</td>\n",
       "      <td>Germany</td>\n",
       "      <td>Female</td>\n",
       "      <td>35</td>\n",
       "      <td>8</td>\n",
       "      <td>131101.04</td>\n",
       "      <td>1</td>\n",
       "      <td>1</td>\n",
       "      <td>1</td>\n",
       "      <td>192852.67</td>\n",
       "      <td>0</td>\n",
       "    </tr>\n",
       "    <tr>\n",
       "      <th>1</th>\n",
       "      <td>523</td>\n",
       "      <td>France</td>\n",
       "      <td>Female</td>\n",
       "      <td>40</td>\n",
       "      <td>2</td>\n",
       "      <td>102967.41</td>\n",
       "      <td>1</td>\n",
       "      <td>1</td>\n",
       "      <td>0</td>\n",
       "      <td>128702.10</td>\n",
       "      <td>1</td>\n",
       "    </tr>\n",
       "    <tr>\n",
       "      <th>2</th>\n",
       "      <td>706</td>\n",
       "      <td>Spain</td>\n",
       "      <td>Female</td>\n",
       "      <td>42</td>\n",
       "      <td>8</td>\n",
       "      <td>95386.82</td>\n",
       "      <td>1</td>\n",
       "      <td>1</td>\n",
       "      <td>1</td>\n",
       "      <td>75732.25</td>\n",
       "      <td>0</td>\n",
       "    </tr>\n",
       "    <tr>\n",
       "      <th>3</th>\n",
       "      <td>788</td>\n",
       "      <td>France</td>\n",
       "      <td>Male</td>\n",
       "      <td>32</td>\n",
       "      <td>4</td>\n",
       "      <td>112079.58</td>\n",
       "      <td>1</td>\n",
       "      <td>0</td>\n",
       "      <td>0</td>\n",
       "      <td>89368.59</td>\n",
       "      <td>0</td>\n",
       "    </tr>\n",
       "    <tr>\n",
       "      <th>4</th>\n",
       "      <td>706</td>\n",
       "      <td>Germany</td>\n",
       "      <td>Male</td>\n",
       "      <td>38</td>\n",
       "      <td>5</td>\n",
       "      <td>163034.82</td>\n",
       "      <td>2</td>\n",
       "      <td>1</td>\n",
       "      <td>1</td>\n",
       "      <td>135662.17</td>\n",
       "      <td>0</td>\n",
       "    </tr>\n",
       "    <tr>\n",
       "      <th>...</th>\n",
       "      <td>...</td>\n",
       "      <td>...</td>\n",
       "      <td>...</td>\n",
       "      <td>...</td>\n",
       "      <td>...</td>\n",
       "      <td>...</td>\n",
       "      <td>...</td>\n",
       "      <td>...</td>\n",
       "      <td>...</td>\n",
       "      <td>...</td>\n",
       "      <td>...</td>\n",
       "    </tr>\n",
       "    <tr>\n",
       "      <th>9965</th>\n",
       "      <td>790</td>\n",
       "      <td>Spain</td>\n",
       "      <td>Male</td>\n",
       "      <td>20</td>\n",
       "      <td>8</td>\n",
       "      <td>0.00</td>\n",
       "      <td>2</td>\n",
       "      <td>1</td>\n",
       "      <td>0</td>\n",
       "      <td>168152.76</td>\n",
       "      <td>0</td>\n",
       "    </tr>\n",
       "    <tr>\n",
       "      <th>9966</th>\n",
       "      <td>658</td>\n",
       "      <td>France</td>\n",
       "      <td>Female</td>\n",
       "      <td>39</td>\n",
       "      <td>4</td>\n",
       "      <td>0.00</td>\n",
       "      <td>1</td>\n",
       "      <td>1</td>\n",
       "      <td>1</td>\n",
       "      <td>147530.06</td>\n",
       "      <td>0</td>\n",
       "    </tr>\n",
       "    <tr>\n",
       "      <th>9967</th>\n",
       "      <td>505</td>\n",
       "      <td>Germany</td>\n",
       "      <td>Female</td>\n",
       "      <td>37</td>\n",
       "      <td>10</td>\n",
       "      <td>122453.97</td>\n",
       "      <td>2</td>\n",
       "      <td>1</td>\n",
       "      <td>1</td>\n",
       "      <td>52693.99</td>\n",
       "      <td>0</td>\n",
       "    </tr>\n",
       "    <tr>\n",
       "      <th>9968</th>\n",
       "      <td>751</td>\n",
       "      <td>France</td>\n",
       "      <td>Female</td>\n",
       "      <td>30</td>\n",
       "      <td>6</td>\n",
       "      <td>0.00</td>\n",
       "      <td>2</td>\n",
       "      <td>1</td>\n",
       "      <td>0</td>\n",
       "      <td>15766.10</td>\n",
       "      <td>0</td>\n",
       "    </tr>\n",
       "    <tr>\n",
       "      <th>9969</th>\n",
       "      <td>488</td>\n",
       "      <td>Germany</td>\n",
       "      <td>Male</td>\n",
       "      <td>32</td>\n",
       "      <td>3</td>\n",
       "      <td>114540.38</td>\n",
       "      <td>1</td>\n",
       "      <td>1</td>\n",
       "      <td>0</td>\n",
       "      <td>92568.07</td>\n",
       "      <td>0</td>\n",
       "    </tr>\n",
       "  </tbody>\n",
       "</table>\n",
       "<p>9970 rows × 11 columns</p>\n",
       "</div>"
      ],
      "text/plain": [
       "      CreditScore Geography  Gender  Age  Tenure    Balance  NumOfProducts  \\\n",
       "0             597   Germany  Female   35       8  131101.04              1   \n",
       "1             523    France  Female   40       2  102967.41              1   \n",
       "2             706     Spain  Female   42       8   95386.82              1   \n",
       "3             788    France    Male   32       4  112079.58              1   \n",
       "4             706   Germany    Male   38       5  163034.82              2   \n",
       "...           ...       ...     ...  ...     ...        ...            ...   \n",
       "9965          790     Spain    Male   20       8       0.00              2   \n",
       "9966          658    France  Female   39       4       0.00              1   \n",
       "9967          505   Germany  Female   37      10  122453.97              2   \n",
       "9968          751    France  Female   30       6       0.00              2   \n",
       "9969          488   Germany    Male   32       3  114540.38              1   \n",
       "\n",
       "      HasCrCard  IsActiveMember  EstimatedSalary  Exited  \n",
       "0             1               1        192852.67       0  \n",
       "1             1               0        128702.10       1  \n",
       "2             1               1         75732.25       0  \n",
       "3             0               0         89368.59       0  \n",
       "4             1               1        135662.17       0  \n",
       "...         ...             ...              ...     ...  \n",
       "9965          1               0        168152.76       0  \n",
       "9966          1               1        147530.06       0  \n",
       "9967          1               1         52693.99       0  \n",
       "9968          1               0         15766.10       0  \n",
       "9969          1               0         92568.07       0  \n",
       "\n",
       "[9970 rows x 11 columns]"
      ]
     },
     "execution_count": 11,
     "metadata": {},
     "output_type": "execute_result"
    }
   ],
   "source": [
    "data"
   ]
  },
  {
   "cell_type": "code",
   "execution_count": 12,
   "id": "stunning-fifty",
   "metadata": {},
   "outputs": [
    {
     "data": {
      "text/plain": [
       "CreditScore          int64\n",
       "Geography           object\n",
       "Gender              object\n",
       "Age                  int64\n",
       "Tenure               int64\n",
       "Balance            float64\n",
       "NumOfProducts        int64\n",
       "HasCrCard            int64\n",
       "IsActiveMember       int64\n",
       "EstimatedSalary    float64\n",
       "Exited               int64\n",
       "dtype: object"
      ]
     },
     "execution_count": 12,
     "metadata": {},
     "output_type": "execute_result"
    }
   ],
   "source": [
    "data.dtypes"
   ]
  },
  {
   "cell_type": "code",
   "execution_count": 13,
   "id": "standard-fishing",
   "metadata": {},
   "outputs": [
    {
     "data": {
      "text/plain": [
       "CreditScore        0\n",
       "Geography          0\n",
       "Gender             0\n",
       "Age                0\n",
       "Tenure             0\n",
       "Balance            0\n",
       "NumOfProducts      0\n",
       "HasCrCard          0\n",
       "IsActiveMember     0\n",
       "EstimatedSalary    0\n",
       "Exited             0\n",
       "dtype: int64"
      ]
     },
     "execution_count": 13,
     "metadata": {},
     "output_type": "execute_result"
    }
   ],
   "source": [
    "data.isna().sum()"
   ]
  },
  {
   "cell_type": "code",
   "execution_count": 14,
   "id": "stuck-potential",
   "metadata": {},
   "outputs": [
    {
     "data": {
      "text/plain": [
       "{'CreditScore': 597.0,\n",
       " 'Age': 35.0,\n",
       " 'Tenure': 8.0,\n",
       " 'Balance': 131101.04,\n",
       " 'NumOfProducts': 1.0,\n",
       " 'HasCrCard': 1.0,\n",
       " 'IsActiveMember': 1.0,\n",
       " 'EstimatedSalary': 192852.67,\n",
       " 'France': 0.0,\n",
       " 'Germany': 1.0,\n",
       " 'Spain': 0.0,\n",
       " 'Female': 1.0,\n",
       " 'Male': 0.0}"
      ]
     },
     "execution_count": 14,
     "metadata": {},
     "output_type": "execute_result"
    }
   ],
   "source": [
    "\n",
    "cols_to_consider = ['Geography', 'Gender']\n",
    "for col in cols_to_consider:\n",
    "    data = pd.concat([data, pd.get_dummies(data[col])], axis = 1)\n",
    "    data = data.drop(columns = [col])\n",
    "#### The JSON format that your Azure endpoint should expect follows is shown below.\n",
    "\n",
    "target = 'Exited'\n",
    "features = [col for col in data.columns if col != target]\n",
    "data.loc[0, features].to_dict()"
   ]
  },
  {
   "cell_type": "code",
   "execution_count": 15,
   "id": "fatty-latest",
   "metadata": {
    "jupyter": {
     "source_hidden": true
    }
   },
   "outputs": [
    {
     "data": {
      "text/html": [
       "\n",
       "    <div class=\"bk-root\">\n",
       "        <a href=\"https://bokeh.org\" target=\"_blank\" class=\"bk-logo bk-logo-small bk-logo-notebook\"></a>\n",
       "        <span id=\"1001\">Loading BokehJS ...</span>\n",
       "    </div>"
      ]
     },
     "metadata": {},
     "output_type": "display_data"
    },
    {
     "data": {
      "application/javascript": [
       "\n",
       "(function(root) {\n",
       "  function now() {\n",
       "    return new Date();\n",
       "  }\n",
       "\n",
       "  var force = true;\n",
       "\n",
       "  if (typeof root._bokeh_onload_callbacks === \"undefined\" || force === true) {\n",
       "    root._bokeh_onload_callbacks = [];\n",
       "    root._bokeh_is_loading = undefined;\n",
       "  }\n",
       "\n",
       "  var JS_MIME_TYPE = 'application/javascript';\n",
       "  var HTML_MIME_TYPE = 'text/html';\n",
       "  var EXEC_MIME_TYPE = 'application/vnd.bokehjs_exec.v0+json';\n",
       "  var CLASS_NAME = 'output_bokeh rendered_html';\n",
       "\n",
       "  /**\n",
       "   * Render data to the DOM node\n",
       "   */\n",
       "  function render(props, node) {\n",
       "    var script = document.createElement(\"script\");\n",
       "    node.appendChild(script);\n",
       "  }\n",
       "\n",
       "  /**\n",
       "   * Handle when an output is cleared or removed\n",
       "   */\n",
       "  function handleClearOutput(event, handle) {\n",
       "    var cell = handle.cell;\n",
       "\n",
       "    var id = cell.output_area._bokeh_element_id;\n",
       "    var server_id = cell.output_area._bokeh_server_id;\n",
       "    // Clean up Bokeh references\n",
       "    if (id != null && id in Bokeh.index) {\n",
       "      Bokeh.index[id].model.document.clear();\n",
       "      delete Bokeh.index[id];\n",
       "    }\n",
       "\n",
       "    if (server_id !== undefined) {\n",
       "      // Clean up Bokeh references\n",
       "      var cmd = \"from bokeh.io.state import curstate; print(curstate().uuid_to_server['\" + server_id + \"'].get_sessions()[0].document.roots[0]._id)\";\n",
       "      cell.notebook.kernel.execute(cmd, {\n",
       "        iopub: {\n",
       "          output: function(msg) {\n",
       "            var id = msg.content.text.trim();\n",
       "            if (id in Bokeh.index) {\n",
       "              Bokeh.index[id].model.document.clear();\n",
       "              delete Bokeh.index[id];\n",
       "            }\n",
       "          }\n",
       "        }\n",
       "      });\n",
       "      // Destroy server and session\n",
       "      var cmd = \"import bokeh.io.notebook as ion; ion.destroy_server('\" + server_id + \"')\";\n",
       "      cell.notebook.kernel.execute(cmd);\n",
       "    }\n",
       "  }\n",
       "\n",
       "  /**\n",
       "   * Handle when a new output is added\n",
       "   */\n",
       "  function handleAddOutput(event, handle) {\n",
       "    var output_area = handle.output_area;\n",
       "    var output = handle.output;\n",
       "\n",
       "    // limit handleAddOutput to display_data with EXEC_MIME_TYPE content only\n",
       "    if ((output.output_type != \"display_data\") || (!output.data.hasOwnProperty(EXEC_MIME_TYPE))) {\n",
       "      return\n",
       "    }\n",
       "\n",
       "    var toinsert = output_area.element.find(\".\" + CLASS_NAME.split(' ')[0]);\n",
       "\n",
       "    if (output.metadata[EXEC_MIME_TYPE][\"id\"] !== undefined) {\n",
       "      toinsert[toinsert.length - 1].firstChild.textContent = output.data[JS_MIME_TYPE];\n",
       "      // store reference to embed id on output_area\n",
       "      output_area._bokeh_element_id = output.metadata[EXEC_MIME_TYPE][\"id\"];\n",
       "    }\n",
       "    if (output.metadata[EXEC_MIME_TYPE][\"server_id\"] !== undefined) {\n",
       "      var bk_div = document.createElement(\"div\");\n",
       "      bk_div.innerHTML = output.data[HTML_MIME_TYPE];\n",
       "      var script_attrs = bk_div.children[0].attributes;\n",
       "      for (var i = 0; i < script_attrs.length; i++) {\n",
       "        toinsert[toinsert.length - 1].firstChild.setAttribute(script_attrs[i].name, script_attrs[i].value);\n",
       "        toinsert[toinsert.length - 1].firstChild.textContent = bk_div.children[0].textContent\n",
       "      }\n",
       "      // store reference to server id on output_area\n",
       "      output_area._bokeh_server_id = output.metadata[EXEC_MIME_TYPE][\"server_id\"];\n",
       "    }\n",
       "  }\n",
       "\n",
       "  function register_renderer(events, OutputArea) {\n",
       "\n",
       "    function append_mime(data, metadata, element) {\n",
       "      // create a DOM node to render to\n",
       "      var toinsert = this.create_output_subarea(\n",
       "        metadata,\n",
       "        CLASS_NAME,\n",
       "        EXEC_MIME_TYPE\n",
       "      );\n",
       "      this.keyboard_manager.register_events(toinsert);\n",
       "      // Render to node\n",
       "      var props = {data: data, metadata: metadata[EXEC_MIME_TYPE]};\n",
       "      render(props, toinsert[toinsert.length - 1]);\n",
       "      element.append(toinsert);\n",
       "      return toinsert\n",
       "    }\n",
       "\n",
       "    /* Handle when an output is cleared or removed */\n",
       "    events.on('clear_output.CodeCell', handleClearOutput);\n",
       "    events.on('delete.Cell', handleClearOutput);\n",
       "\n",
       "    /* Handle when a new output is added */\n",
       "    events.on('output_added.OutputArea', handleAddOutput);\n",
       "\n",
       "    /**\n",
       "     * Register the mime type and append_mime function with output_area\n",
       "     */\n",
       "    OutputArea.prototype.register_mime_type(EXEC_MIME_TYPE, append_mime, {\n",
       "      /* Is output safe? */\n",
       "      safe: true,\n",
       "      /* Index of renderer in `output_area.display_order` */\n",
       "      index: 0\n",
       "    });\n",
       "  }\n",
       "\n",
       "  // register the mime type if in Jupyter Notebook environment and previously unregistered\n",
       "  if (root.Jupyter !== undefined) {\n",
       "    var events = require('base/js/events');\n",
       "    var OutputArea = require('notebook/js/outputarea').OutputArea;\n",
       "\n",
       "    if (OutputArea.prototype.mime_types().indexOf(EXEC_MIME_TYPE) == -1) {\n",
       "      register_renderer(events, OutputArea);\n",
       "    }\n",
       "  }\n",
       "\n",
       "  \n",
       "  if (typeof (root._bokeh_timeout) === \"undefined\" || force === true) {\n",
       "    root._bokeh_timeout = Date.now() + 5000;\n",
       "    root._bokeh_failed_load = false;\n",
       "  }\n",
       "\n",
       "  var NB_LOAD_WARNING = {'data': {'text/html':\n",
       "     \"<div style='background-color: #fdd'>\\n\"+\n",
       "     \"<p>\\n\"+\n",
       "     \"BokehJS does not appear to have successfully loaded. If loading BokehJS from CDN, this \\n\"+\n",
       "     \"may be due to a slow or bad network connection. Possible fixes:\\n\"+\n",
       "     \"</p>\\n\"+\n",
       "     \"<ul>\\n\"+\n",
       "     \"<li>re-rerun `output_notebook()` to attempt to load from CDN again, or</li>\\n\"+\n",
       "     \"<li>use INLINE resources instead, as so:</li>\\n\"+\n",
       "     \"</ul>\\n\"+\n",
       "     \"<code>\\n\"+\n",
       "     \"from bokeh.resources import INLINE\\n\"+\n",
       "     \"output_notebook(resources=INLINE)\\n\"+\n",
       "     \"</code>\\n\"+\n",
       "     \"</div>\"}};\n",
       "\n",
       "  function display_loaded() {\n",
       "    var el = document.getElementById(\"1001\");\n",
       "    if (el != null) {\n",
       "      el.textContent = \"BokehJS is loading...\";\n",
       "    }\n",
       "    if (root.Bokeh !== undefined) {\n",
       "      if (el != null) {\n",
       "        el.textContent = \"BokehJS \" + root.Bokeh.version + \" successfully loaded.\";\n",
       "      }\n",
       "    } else if (Date.now() < root._bokeh_timeout) {\n",
       "      setTimeout(display_loaded, 100)\n",
       "    }\n",
       "  }\n",
       "\n",
       "\n",
       "  function run_callbacks() {\n",
       "    try {\n",
       "      root._bokeh_onload_callbacks.forEach(function(callback) {\n",
       "        if (callback != null)\n",
       "          callback();\n",
       "      });\n",
       "    } finally {\n",
       "      delete root._bokeh_onload_callbacks\n",
       "    }\n",
       "    console.debug(\"Bokeh: all callbacks have finished\");\n",
       "  }\n",
       "\n",
       "  function load_libs(css_urls, js_urls, callback) {\n",
       "    if (css_urls == null) css_urls = [];\n",
       "    if (js_urls == null) js_urls = [];\n",
       "\n",
       "    root._bokeh_onload_callbacks.push(callback);\n",
       "    if (root._bokeh_is_loading > 0) {\n",
       "      console.debug(\"Bokeh: BokehJS is being loaded, scheduling callback at\", now());\n",
       "      return null;\n",
       "    }\n",
       "    if (js_urls == null || js_urls.length === 0) {\n",
       "      run_callbacks();\n",
       "      return null;\n",
       "    }\n",
       "    console.debug(\"Bokeh: BokehJS not loaded, scheduling load and callback at\", now());\n",
       "    root._bokeh_is_loading = css_urls.length + js_urls.length;\n",
       "\n",
       "    function on_load() {\n",
       "      root._bokeh_is_loading--;\n",
       "      if (root._bokeh_is_loading === 0) {\n",
       "        console.debug(\"Bokeh: all BokehJS libraries/stylesheets loaded\");\n",
       "        run_callbacks()\n",
       "      }\n",
       "    }\n",
       "\n",
       "    function on_error() {\n",
       "      console.error(\"failed to load \" + url);\n",
       "    }\n",
       "\n",
       "    for (var i = 0; i < css_urls.length; i++) {\n",
       "      var url = css_urls[i];\n",
       "      const element = document.createElement(\"link\");\n",
       "      element.onload = on_load;\n",
       "      element.onerror = on_error;\n",
       "      element.rel = \"stylesheet\";\n",
       "      element.type = \"text/css\";\n",
       "      element.href = url;\n",
       "      console.debug(\"Bokeh: injecting link tag for BokehJS stylesheet: \", url);\n",
       "      document.body.appendChild(element);\n",
       "    }\n",
       "\n",
       "    const hashes = {\"https://cdn.bokeh.org/bokeh/release/bokeh-2.2.3.min.js\": \"T2yuo9Oe71Cz/I4X9Ac5+gpEa5a8PpJCDlqKYO0CfAuEszu1JrXLl8YugMqYe3sM\", \"https://cdn.bokeh.org/bokeh/release/bokeh-widgets-2.2.3.min.js\": \"98GDGJ0kOMCUMUePhksaQ/GYgB3+NH9h996V88sh3aOiUNX3N+fLXAtry6xctSZ6\", \"https://cdn.bokeh.org/bokeh/release/bokeh-tables-2.2.3.min.js\": \"89bArO+nlbP3sgakeHjCo1JYxYR5wufVgA3IbUvDY+K7w4zyxJqssu7wVnfeKCq8\"};\n",
       "\n",
       "    for (var i = 0; i < js_urls.length; i++) {\n",
       "      var url = js_urls[i];\n",
       "      var element = document.createElement('script');\n",
       "      element.onload = on_load;\n",
       "      element.onerror = on_error;\n",
       "      element.async = false;\n",
       "      element.src = url;\n",
       "      if (url in hashes) {\n",
       "        element.crossOrigin = \"anonymous\";\n",
       "        element.integrity = \"sha384-\" + hashes[url];\n",
       "      }\n",
       "      console.debug(\"Bokeh: injecting script tag for BokehJS library: \", url);\n",
       "      document.head.appendChild(element);\n",
       "    }\n",
       "  };\n",
       "\n",
       "  function inject_raw_css(css) {\n",
       "    const element = document.createElement(\"style\");\n",
       "    element.appendChild(document.createTextNode(css));\n",
       "    document.body.appendChild(element);\n",
       "  }\n",
       "\n",
       "  \n",
       "  var js_urls = [\"https://cdn.bokeh.org/bokeh/release/bokeh-2.2.3.min.js\", \"https://cdn.bokeh.org/bokeh/release/bokeh-widgets-2.2.3.min.js\", \"https://cdn.bokeh.org/bokeh/release/bokeh-tables-2.2.3.min.js\"];\n",
       "  var css_urls = [];\n",
       "  \n",
       "\n",
       "  var inline_js = [\n",
       "    function(Bokeh) {\n",
       "      Bokeh.set_log_level(\"info\");\n",
       "    },\n",
       "    function(Bokeh) {\n",
       "    \n",
       "    \n",
       "    }\n",
       "  ];\n",
       "\n",
       "  function run_inline_js() {\n",
       "    \n",
       "    if (root.Bokeh !== undefined || force === true) {\n",
       "      \n",
       "    for (var i = 0; i < inline_js.length; i++) {\n",
       "      inline_js[i].call(root, root.Bokeh);\n",
       "    }\n",
       "    if (force === true) {\n",
       "        display_loaded();\n",
       "      }} else if (Date.now() < root._bokeh_timeout) {\n",
       "      setTimeout(run_inline_js, 100);\n",
       "    } else if (!root._bokeh_failed_load) {\n",
       "      console.log(\"Bokeh: BokehJS failed to load within specified timeout.\");\n",
       "      root._bokeh_failed_load = true;\n",
       "    } else if (force !== true) {\n",
       "      var cell = $(document.getElementById(\"1001\")).parents('.cell').data().cell;\n",
       "      cell.output_area.append_execute_result(NB_LOAD_WARNING)\n",
       "    }\n",
       "\n",
       "  }\n",
       "\n",
       "  if (root._bokeh_is_loading === 0) {\n",
       "    console.debug(\"Bokeh: BokehJS loaded, going straight to plotting\");\n",
       "    run_inline_js();\n",
       "  } else {\n",
       "    load_libs(css_urls, js_urls, function() {\n",
       "      console.debug(\"Bokeh: BokehJS plotting callback run at\", now());\n",
       "      run_inline_js();\n",
       "    });\n",
       "  }\n",
       "}(window));"
      ],
      "application/vnd.bokehjs_load.v0+json": "\n(function(root) {\n  function now() {\n    return new Date();\n  }\n\n  var force = true;\n\n  if (typeof root._bokeh_onload_callbacks === \"undefined\" || force === true) {\n    root._bokeh_onload_callbacks = [];\n    root._bokeh_is_loading = undefined;\n  }\n\n  \n\n  \n  if (typeof (root._bokeh_timeout) === \"undefined\" || force === true) {\n    root._bokeh_timeout = Date.now() + 5000;\n    root._bokeh_failed_load = false;\n  }\n\n  var NB_LOAD_WARNING = {'data': {'text/html':\n     \"<div style='background-color: #fdd'>\\n\"+\n     \"<p>\\n\"+\n     \"BokehJS does not appear to have successfully loaded. If loading BokehJS from CDN, this \\n\"+\n     \"may be due to a slow or bad network connection. Possible fixes:\\n\"+\n     \"</p>\\n\"+\n     \"<ul>\\n\"+\n     \"<li>re-rerun `output_notebook()` to attempt to load from CDN again, or</li>\\n\"+\n     \"<li>use INLINE resources instead, as so:</li>\\n\"+\n     \"</ul>\\n\"+\n     \"<code>\\n\"+\n     \"from bokeh.resources import INLINE\\n\"+\n     \"output_notebook(resources=INLINE)\\n\"+\n     \"</code>\\n\"+\n     \"</div>\"}};\n\n  function display_loaded() {\n    var el = document.getElementById(\"1001\");\n    if (el != null) {\n      el.textContent = \"BokehJS is loading...\";\n    }\n    if (root.Bokeh !== undefined) {\n      if (el != null) {\n        el.textContent = \"BokehJS \" + root.Bokeh.version + \" successfully loaded.\";\n      }\n    } else if (Date.now() < root._bokeh_timeout) {\n      setTimeout(display_loaded, 100)\n    }\n  }\n\n\n  function run_callbacks() {\n    try {\n      root._bokeh_onload_callbacks.forEach(function(callback) {\n        if (callback != null)\n          callback();\n      });\n    } finally {\n      delete root._bokeh_onload_callbacks\n    }\n    console.debug(\"Bokeh: all callbacks have finished\");\n  }\n\n  function load_libs(css_urls, js_urls, callback) {\n    if (css_urls == null) css_urls = [];\n    if (js_urls == null) js_urls = [];\n\n    root._bokeh_onload_callbacks.push(callback);\n    if (root._bokeh_is_loading > 0) {\n      console.debug(\"Bokeh: BokehJS is being loaded, scheduling callback at\", now());\n      return null;\n    }\n    if (js_urls == null || js_urls.length === 0) {\n      run_callbacks();\n      return null;\n    }\n    console.debug(\"Bokeh: BokehJS not loaded, scheduling load and callback at\", now());\n    root._bokeh_is_loading = css_urls.length + js_urls.length;\n\n    function on_load() {\n      root._bokeh_is_loading--;\n      if (root._bokeh_is_loading === 0) {\n        console.debug(\"Bokeh: all BokehJS libraries/stylesheets loaded\");\n        run_callbacks()\n      }\n    }\n\n    function on_error() {\n      console.error(\"failed to load \" + url);\n    }\n\n    for (var i = 0; i < css_urls.length; i++) {\n      var url = css_urls[i];\n      const element = document.createElement(\"link\");\n      element.onload = on_load;\n      element.onerror = on_error;\n      element.rel = \"stylesheet\";\n      element.type = \"text/css\";\n      element.href = url;\n      console.debug(\"Bokeh: injecting link tag for BokehJS stylesheet: \", url);\n      document.body.appendChild(element);\n    }\n\n    const hashes = {\"https://cdn.bokeh.org/bokeh/release/bokeh-2.2.3.min.js\": \"T2yuo9Oe71Cz/I4X9Ac5+gpEa5a8PpJCDlqKYO0CfAuEszu1JrXLl8YugMqYe3sM\", \"https://cdn.bokeh.org/bokeh/release/bokeh-widgets-2.2.3.min.js\": \"98GDGJ0kOMCUMUePhksaQ/GYgB3+NH9h996V88sh3aOiUNX3N+fLXAtry6xctSZ6\", \"https://cdn.bokeh.org/bokeh/release/bokeh-tables-2.2.3.min.js\": \"89bArO+nlbP3sgakeHjCo1JYxYR5wufVgA3IbUvDY+K7w4zyxJqssu7wVnfeKCq8\"};\n\n    for (var i = 0; i < js_urls.length; i++) {\n      var url = js_urls[i];\n      var element = document.createElement('script');\n      element.onload = on_load;\n      element.onerror = on_error;\n      element.async = false;\n      element.src = url;\n      if (url in hashes) {\n        element.crossOrigin = \"anonymous\";\n        element.integrity = \"sha384-\" + hashes[url];\n      }\n      console.debug(\"Bokeh: injecting script tag for BokehJS library: \", url);\n      document.head.appendChild(element);\n    }\n  };\n\n  function inject_raw_css(css) {\n    const element = document.createElement(\"style\");\n    element.appendChild(document.createTextNode(css));\n    document.body.appendChild(element);\n  }\n\n  \n  var js_urls = [\"https://cdn.bokeh.org/bokeh/release/bokeh-2.2.3.min.js\", \"https://cdn.bokeh.org/bokeh/release/bokeh-widgets-2.2.3.min.js\", \"https://cdn.bokeh.org/bokeh/release/bokeh-tables-2.2.3.min.js\"];\n  var css_urls = [];\n  \n\n  var inline_js = [\n    function(Bokeh) {\n      Bokeh.set_log_level(\"info\");\n    },\n    function(Bokeh) {\n    \n    \n    }\n  ];\n\n  function run_inline_js() {\n    \n    if (root.Bokeh !== undefined || force === true) {\n      \n    for (var i = 0; i < inline_js.length; i++) {\n      inline_js[i].call(root, root.Bokeh);\n    }\n    if (force === true) {\n        display_loaded();\n      }} else if (Date.now() < root._bokeh_timeout) {\n      setTimeout(run_inline_js, 100);\n    } else if (!root._bokeh_failed_load) {\n      console.log(\"Bokeh: BokehJS failed to load within specified timeout.\");\n      root._bokeh_failed_load = true;\n    } else if (force !== true) {\n      var cell = $(document.getElementById(\"1001\")).parents('.cell').data().cell;\n      cell.output_area.append_execute_result(NB_LOAD_WARNING)\n    }\n\n  }\n\n  if (root._bokeh_is_loading === 0) {\n    console.debug(\"Bokeh: BokehJS loaded, going straight to plotting\");\n    run_inline_js();\n  } else {\n    load_libs(css_urls, js_urls, function() {\n      console.debug(\"Bokeh: BokehJS plotting callback run at\", now());\n      run_inline_js();\n    });\n  }\n}(window));"
     },
     "metadata": {},
     "output_type": "display_data"
    }
   ],
   "source": [
    "import matplotlib.pyplot as plt\n",
    "import numpy as np\n",
    "import pandas as pd\n",
    "pd.options.display.float_format = '{:,.4f}'.format\n",
    "import seaborn as sns\n",
    "sns.set_style('whitegrid')\n",
    "\n",
    "from bokeh.layouts import gridplot, column\n",
    "from bokeh.models import (BasicTicker, ColorBar, ColumnDataSource, \n",
    "                          HoverTool, LabelSet, LinearColorMapper, NumeralTickFormatter)\n",
    "from bokeh.palettes import brewer, RdBu, Reds\n",
    "from bokeh.plotting import figure, show, output_notebook\n",
    "from bokeh.transform import transform\n",
    "\n",
    "%config Completer.use_jedi = False\n",
    "output_notebook()"
   ]
  },
  {
   "cell_type": "code",
   "execution_count": 16,
   "id": "individual-savings",
   "metadata": {
    "jupyter": {
     "source_hidden": true
    }
   },
   "outputs": [],
   "source": [
    "def plot_confusion_matrix(y_true, y_predicted):\n",
    "    \n",
    "    from sklearn import metrics\n",
    "    \n",
    "    accuracy = np.round(100*(y_true == y_predicted).astype(int).sum()/len(y_predicted), 2)\n",
    "    \n",
    "    confusion = pd.DataFrame(metrics.confusion_matrix(y_true, y_predicted))\n",
    "    confusion.index.name = \"True\"\n",
    "    confusion.columns.name = \"Predicted\"\n",
    "    confusion = confusion.stack().rename(\"value\").reset_index()\n",
    "    confusion['True'] = confusion['True'].astype(str)\n",
    "    confusion['Predicted'] = confusion['Predicted'].astype(str)\n",
    "\n",
    "    source = ColumnDataSource(confusion)\n",
    "\n",
    "    values = sorted(list(confusion['True'].unique()))\n",
    "\n",
    "    palette = brewer['RdBu'][10]\n",
    "    color_mapper = LinearColorMapper(\n",
    "        palette = palette, \n",
    "    )\n",
    "\n",
    "    p = figure(\n",
    "        plot_width = 300, \n",
    "        plot_height = 300, \n",
    "        title = f'Confusion Matrix: Overall accuracy = {accuracy}%',\n",
    "        x_range = ['0', '1'], \n",
    "        y_range = ['0', '1'],\n",
    "        x_axis_label = 'Predicted',\n",
    "        y_axis_label = 'True',\n",
    "        tools = 'hover', \n",
    "        x_axis_location=\"below\",\n",
    "    )\n",
    "\n",
    "    p.rect(\n",
    "        x = 'Predicted', \n",
    "        y = 'True', \n",
    "        width = 1, \n",
    "        height = 1, \n",
    "        source = source,\n",
    "        line_color = 'grey', \n",
    "        fill_color = transform('value', color_mapper),\n",
    "    )\n",
    "\n",
    "    hover = p.hover.tooltips = [\n",
    "        (\"True\", \"@{True}\"),\n",
    "        (\"Predicted\", \"@{Predicted}\"),\n",
    "        (\"Count\", \"@value\"),\n",
    "    ]\n",
    "\n",
    "    p.axis.axis_line_color = None\n",
    "    p.axis.major_tick_line_color = None\n",
    "    p.axis.major_label_text_font_size = \"14px\"\n",
    "    p.axis.major_label_standoff = 0\n",
    "    p.xaxis.major_label_orientation = 1.0\n",
    "    \n",
    "    labels = LabelSet(x='Predicted', y='True', text='value',\n",
    "                      render_mode='canvas', text_color = 'white',\n",
    "                      x_offset = 50, y_offset = 50, source=source,)\n",
    "\n",
    "    p.add_layout(labels)\n",
    "\n",
    "    show(p)"
   ]
  },
  {
   "cell_type": "code",
   "execution_count": null,
   "id": "superb-tanzania",
   "metadata": {},
   "outputs": [],
   "source": []
  },
  {
   "cell_type": "code",
   "execution_count": 18,
   "id": "comfortable-gnome",
   "metadata": {},
   "outputs": [
    {
     "data": {
      "text/html": [
       "<div>\n",
       "<style scoped>\n",
       "    .dataframe tbody tr th:only-of-type {\n",
       "        vertical-align: middle;\n",
       "    }\n",
       "\n",
       "    .dataframe tbody tr th {\n",
       "        vertical-align: top;\n",
       "    }\n",
       "\n",
       "    .dataframe thead th {\n",
       "        text-align: right;\n",
       "    }\n",
       "</style>\n",
       "<table border=\"1\" class=\"dataframe\">\n",
       "  <thead>\n",
       "    <tr style=\"text-align: right;\">\n",
       "      <th></th>\n",
       "      <th>count</th>\n",
       "      <th>mean</th>\n",
       "      <th>std</th>\n",
       "      <th>min</th>\n",
       "      <th>50%</th>\n",
       "      <th>max</th>\n",
       "    </tr>\n",
       "  </thead>\n",
       "  <tbody>\n",
       "    <tr>\n",
       "      <th>CreditScore</th>\n",
       "      <td>9,970.0000</td>\n",
       "      <td>650.5796</td>\n",
       "      <td>96.6353</td>\n",
       "      <td>350.0000</td>\n",
       "      <td>652.0000</td>\n",
       "      <td>850.0000</td>\n",
       "    </tr>\n",
       "    <tr>\n",
       "      <th>Age</th>\n",
       "      <td>9,970.0000</td>\n",
       "      <td>38.9257</td>\n",
       "      <td>10.4905</td>\n",
       "      <td>18.0000</td>\n",
       "      <td>37.0000</td>\n",
       "      <td>92.0000</td>\n",
       "    </tr>\n",
       "    <tr>\n",
       "      <th>Tenure</th>\n",
       "      <td>9,970.0000</td>\n",
       "      <td>5.0135</td>\n",
       "      <td>2.8918</td>\n",
       "      <td>0.0000</td>\n",
       "      <td>5.0000</td>\n",
       "      <td>10.0000</td>\n",
       "    </tr>\n",
       "    <tr>\n",
       "      <th>Balance</th>\n",
       "      <td>9,970.0000</td>\n",
       "      <td>76,485.4634</td>\n",
       "      <td>62,400.2750</td>\n",
       "      <td>0.0000</td>\n",
       "      <td>97,221.5200</td>\n",
       "      <td>250,898.0900</td>\n",
       "    </tr>\n",
       "    <tr>\n",
       "      <th>NumOfProducts</th>\n",
       "      <td>9,970.0000</td>\n",
       "      <td>1.5300</td>\n",
       "      <td>0.5817</td>\n",
       "      <td>1.0000</td>\n",
       "      <td>1.0000</td>\n",
       "      <td>4.0000</td>\n",
       "    </tr>\n",
       "    <tr>\n",
       "      <th>HasCrCard</th>\n",
       "      <td>9,970.0000</td>\n",
       "      <td>0.7054</td>\n",
       "      <td>0.4559</td>\n",
       "      <td>0.0000</td>\n",
       "      <td>1.0000</td>\n",
       "      <td>1.0000</td>\n",
       "    </tr>\n",
       "    <tr>\n",
       "      <th>IsActiveMember</th>\n",
       "      <td>9,970.0000</td>\n",
       "      <td>0.5150</td>\n",
       "      <td>0.4998</td>\n",
       "      <td>0.0000</td>\n",
       "      <td>1.0000</td>\n",
       "      <td>1.0000</td>\n",
       "    </tr>\n",
       "    <tr>\n",
       "      <th>EstimatedSalary</th>\n",
       "      <td>9,970.0000</td>\n",
       "      <td>100,069.8759</td>\n",
       "      <td>57,510.5570</td>\n",
       "      <td>11.5800</td>\n",
       "      <td>100,168.2400</td>\n",
       "      <td>199,992.4800</td>\n",
       "    </tr>\n",
       "    <tr>\n",
       "      <th>Exited</th>\n",
       "      <td>9,970.0000</td>\n",
       "      <td>0.2038</td>\n",
       "      <td>0.4029</td>\n",
       "      <td>0.0000</td>\n",
       "      <td>0.0000</td>\n",
       "      <td>1.0000</td>\n",
       "    </tr>\n",
       "    <tr>\n",
       "      <th>France</th>\n",
       "      <td>9,970.0000</td>\n",
       "      <td>0.5016</td>\n",
       "      <td>0.5000</td>\n",
       "      <td>0.0000</td>\n",
       "      <td>1.0000</td>\n",
       "      <td>1.0000</td>\n",
       "    </tr>\n",
       "    <tr>\n",
       "      <th>Germany</th>\n",
       "      <td>9,970.0000</td>\n",
       "      <td>0.2510</td>\n",
       "      <td>0.4336</td>\n",
       "      <td>0.0000</td>\n",
       "      <td>0.0000</td>\n",
       "      <td>1.0000</td>\n",
       "    </tr>\n",
       "    <tr>\n",
       "      <th>Spain</th>\n",
       "      <td>9,970.0000</td>\n",
       "      <td>0.2474</td>\n",
       "      <td>0.4315</td>\n",
       "      <td>0.0000</td>\n",
       "      <td>0.0000</td>\n",
       "      <td>1.0000</td>\n",
       "    </tr>\n",
       "    <tr>\n",
       "      <th>Female</th>\n",
       "      <td>9,970.0000</td>\n",
       "      <td>0.4541</td>\n",
       "      <td>0.4979</td>\n",
       "      <td>0.0000</td>\n",
       "      <td>0.0000</td>\n",
       "      <td>1.0000</td>\n",
       "    </tr>\n",
       "    <tr>\n",
       "      <th>Male</th>\n",
       "      <td>9,970.0000</td>\n",
       "      <td>0.5459</td>\n",
       "      <td>0.4979</td>\n",
       "      <td>0.0000</td>\n",
       "      <td>1.0000</td>\n",
       "      <td>1.0000</td>\n",
       "    </tr>\n",
       "  </tbody>\n",
       "</table>\n",
       "</div>"
      ],
      "text/plain": [
       "                     count         mean         std      min          50%  \\\n",
       "CreditScore     9,970.0000     650.5796     96.6353 350.0000     652.0000   \n",
       "Age             9,970.0000      38.9257     10.4905  18.0000      37.0000   \n",
       "Tenure          9,970.0000       5.0135      2.8918   0.0000       5.0000   \n",
       "Balance         9,970.0000  76,485.4634 62,400.2750   0.0000  97,221.5200   \n",
       "NumOfProducts   9,970.0000       1.5300      0.5817   1.0000       1.0000   \n",
       "HasCrCard       9,970.0000       0.7054      0.4559   0.0000       1.0000   \n",
       "IsActiveMember  9,970.0000       0.5150      0.4998   0.0000       1.0000   \n",
       "EstimatedSalary 9,970.0000 100,069.8759 57,510.5570  11.5800 100,168.2400   \n",
       "Exited          9,970.0000       0.2038      0.4029   0.0000       0.0000   \n",
       "France          9,970.0000       0.5016      0.5000   0.0000       1.0000   \n",
       "Germany         9,970.0000       0.2510      0.4336   0.0000       0.0000   \n",
       "Spain           9,970.0000       0.2474      0.4315   0.0000       0.0000   \n",
       "Female          9,970.0000       0.4541      0.4979   0.0000       0.0000   \n",
       "Male            9,970.0000       0.5459      0.4979   0.0000       1.0000   \n",
       "\n",
       "                         max  \n",
       "CreditScore         850.0000  \n",
       "Age                  92.0000  \n",
       "Tenure               10.0000  \n",
       "Balance         250,898.0900  \n",
       "NumOfProducts         4.0000  \n",
       "HasCrCard             1.0000  \n",
       "IsActiveMember        1.0000  \n",
       "EstimatedSalary 199,992.4800  \n",
       "Exited                1.0000  \n",
       "France                1.0000  \n",
       "Germany               1.0000  \n",
       "Spain                 1.0000  \n",
       "Female                1.0000  \n",
       "Male                  1.0000  "
      ]
     },
     "execution_count": 18,
     "metadata": {},
     "output_type": "execute_result"
    }
   ],
   "source": [
    "data.describe(percentiles = [0.5]).transpose()"
   ]
  },
  {
   "cell_type": "code",
   "execution_count": 19,
   "id": "preceding-drawing",
   "metadata": {},
   "outputs": [],
   "source": [
    "from sklearn import preprocessing\n",
    "\n",
    "scaler = preprocessing.StandardScaler()\n",
    "scaled_data = scaler.fit(data[features])\n",
    "scaled_data = scaler.fit_transform(data[features])\n",
    "scaled_data = pd.DataFrame(scaled_data, columns = features)\n",
    "scaled_data[target] = data[target]"
   ]
  },
  {
   "cell_type": "code",
   "execution_count": 20,
   "id": "comfortable-transcription",
   "metadata": {},
   "outputs": [
    {
     "data": {
      "text/html": [
       "<div>\n",
       "<style scoped>\n",
       "    .dataframe tbody tr th:only-of-type {\n",
       "        vertical-align: middle;\n",
       "    }\n",
       "\n",
       "    .dataframe tbody tr th {\n",
       "        vertical-align: top;\n",
       "    }\n",
       "\n",
       "    .dataframe thead th {\n",
       "        text-align: right;\n",
       "    }\n",
       "</style>\n",
       "<table border=\"1\" class=\"dataframe\">\n",
       "  <thead>\n",
       "    <tr style=\"text-align: right;\">\n",
       "      <th></th>\n",
       "      <th>count</th>\n",
       "      <th>mean</th>\n",
       "      <th>std</th>\n",
       "      <th>min</th>\n",
       "      <th>50%</th>\n",
       "      <th>max</th>\n",
       "    </tr>\n",
       "  </thead>\n",
       "  <tbody>\n",
       "    <tr>\n",
       "      <th>CreditScore</th>\n",
       "      <td>9,970.0000</td>\n",
       "      <td>0.0000</td>\n",
       "      <td>1.0001</td>\n",
       "      <td>-3.1106</td>\n",
       "      <td>0.0147</td>\n",
       "      <td>2.0637</td>\n",
       "    </tr>\n",
       "    <tr>\n",
       "      <th>Age</th>\n",
       "      <td>9,970.0000</td>\n",
       "      <td>0.0000</td>\n",
       "      <td>1.0001</td>\n",
       "      <td>-1.9948</td>\n",
       "      <td>-0.1836</td>\n",
       "      <td>5.0595</td>\n",
       "    </tr>\n",
       "    <tr>\n",
       "      <th>Tenure</th>\n",
       "      <td>9,970.0000</td>\n",
       "      <td>-0.0000</td>\n",
       "      <td>1.0001</td>\n",
       "      <td>-1.7338</td>\n",
       "      <td>-0.0047</td>\n",
       "      <td>1.7245</td>\n",
       "    </tr>\n",
       "    <tr>\n",
       "      <th>Balance</th>\n",
       "      <td>9,970.0000</td>\n",
       "      <td>0.0000</td>\n",
       "      <td>1.0001</td>\n",
       "      <td>-1.2258</td>\n",
       "      <td>0.3323</td>\n",
       "      <td>2.7952</td>\n",
       "    </tr>\n",
       "    <tr>\n",
       "      <th>NumOfProducts</th>\n",
       "      <td>9,970.0000</td>\n",
       "      <td>-0.0000</td>\n",
       "      <td>1.0001</td>\n",
       "      <td>-0.9111</td>\n",
       "      <td>-0.9111</td>\n",
       "      <td>4.2462</td>\n",
       "    </tr>\n",
       "    <tr>\n",
       "      <th>HasCrCard</th>\n",
       "      <td>9,970.0000</td>\n",
       "      <td>-0.0000</td>\n",
       "      <td>1.0001</td>\n",
       "      <td>-1.5475</td>\n",
       "      <td>0.6462</td>\n",
       "      <td>0.6462</td>\n",
       "    </tr>\n",
       "    <tr>\n",
       "      <th>IsActiveMember</th>\n",
       "      <td>9,970.0000</td>\n",
       "      <td>0.0000</td>\n",
       "      <td>1.0001</td>\n",
       "      <td>-1.0306</td>\n",
       "      <td>0.9703</td>\n",
       "      <td>0.9703</td>\n",
       "    </tr>\n",
       "    <tr>\n",
       "      <th>EstimatedSalary</th>\n",
       "      <td>9,970.0000</td>\n",
       "      <td>-0.0000</td>\n",
       "      <td>1.0001</td>\n",
       "      <td>-1.7399</td>\n",
       "      <td>0.0017</td>\n",
       "      <td>1.7376</td>\n",
       "    </tr>\n",
       "    <tr>\n",
       "      <th>France</th>\n",
       "      <td>9,970.0000</td>\n",
       "      <td>0.0000</td>\n",
       "      <td>1.0001</td>\n",
       "      <td>-1.0032</td>\n",
       "      <td>0.9968</td>\n",
       "      <td>0.9968</td>\n",
       "    </tr>\n",
       "    <tr>\n",
       "      <th>Germany</th>\n",
       "      <td>9,970.0000</td>\n",
       "      <td>-0.0000</td>\n",
       "      <td>1.0001</td>\n",
       "      <td>-0.5788</td>\n",
       "      <td>-0.5788</td>\n",
       "      <td>1.7277</td>\n",
       "    </tr>\n",
       "    <tr>\n",
       "      <th>Spain</th>\n",
       "      <td>9,970.0000</td>\n",
       "      <td>0.0000</td>\n",
       "      <td>1.0001</td>\n",
       "      <td>-0.5734</td>\n",
       "      <td>-0.5734</td>\n",
       "      <td>1.7439</td>\n",
       "    </tr>\n",
       "    <tr>\n",
       "      <th>Female</th>\n",
       "      <td>9,970.0000</td>\n",
       "      <td>0.0000</td>\n",
       "      <td>1.0001</td>\n",
       "      <td>-0.9120</td>\n",
       "      <td>-0.9120</td>\n",
       "      <td>1.0965</td>\n",
       "    </tr>\n",
       "    <tr>\n",
       "      <th>Male</th>\n",
       "      <td>9,970.0000</td>\n",
       "      <td>-0.0000</td>\n",
       "      <td>1.0001</td>\n",
       "      <td>-1.0965</td>\n",
       "      <td>0.9120</td>\n",
       "      <td>0.9120</td>\n",
       "    </tr>\n",
       "    <tr>\n",
       "      <th>Exited</th>\n",
       "      <td>9,970.0000</td>\n",
       "      <td>0.2038</td>\n",
       "      <td>0.4029</td>\n",
       "      <td>0.0000</td>\n",
       "      <td>0.0000</td>\n",
       "      <td>1.0000</td>\n",
       "    </tr>\n",
       "  </tbody>\n",
       "</table>\n",
       "</div>"
      ],
      "text/plain": [
       "                     count    mean    std     min     50%    max\n",
       "CreditScore     9,970.0000  0.0000 1.0001 -3.1106  0.0147 2.0637\n",
       "Age             9,970.0000  0.0000 1.0001 -1.9948 -0.1836 5.0595\n",
       "Tenure          9,970.0000 -0.0000 1.0001 -1.7338 -0.0047 1.7245\n",
       "Balance         9,970.0000  0.0000 1.0001 -1.2258  0.3323 2.7952\n",
       "NumOfProducts   9,970.0000 -0.0000 1.0001 -0.9111 -0.9111 4.2462\n",
       "HasCrCard       9,970.0000 -0.0000 1.0001 -1.5475  0.6462 0.6462\n",
       "IsActiveMember  9,970.0000  0.0000 1.0001 -1.0306  0.9703 0.9703\n",
       "EstimatedSalary 9,970.0000 -0.0000 1.0001 -1.7399  0.0017 1.7376\n",
       "France          9,970.0000  0.0000 1.0001 -1.0032  0.9968 0.9968\n",
       "Germany         9,970.0000 -0.0000 1.0001 -0.5788 -0.5788 1.7277\n",
       "Spain           9,970.0000  0.0000 1.0001 -0.5734 -0.5734 1.7439\n",
       "Female          9,970.0000  0.0000 1.0001 -0.9120 -0.9120 1.0965\n",
       "Male            9,970.0000 -0.0000 1.0001 -1.0965  0.9120 0.9120\n",
       "Exited          9,970.0000  0.2038 0.4029  0.0000  0.0000 1.0000"
      ]
     },
     "execution_count": 20,
     "metadata": {},
     "output_type": "execute_result"
    }
   ],
   "source": [
    "scaled_data.describe(percentiles = [0.5]).transpose()"
   ]
  },
  {
   "cell_type": "code",
   "execution_count": 21,
   "id": "alone-uzbekistan",
   "metadata": {},
   "outputs": [
    {
     "data": {
      "text/plain": [
       "0   0.7962\n",
       "1   0.2038\n",
       "Name: Exited, dtype: float64"
      ]
     },
     "execution_count": 21,
     "metadata": {},
     "output_type": "execute_result"
    }
   ],
   "source": [
    "pd.value_counts(scaled_data[target])/pd.value_counts(scaled_data[target]).sum()"
   ]
  },
  {
   "cell_type": "code",
   "execution_count": 23,
   "id": "daily-aspect",
   "metadata": {},
   "outputs": [],
   "source": [
    "from sklearn.model_selection import train_test_split\n",
    "\n",
    "for i in range(1000):\n",
    "    train, test = train_test_split(scaled_data, random_state = i)\n",
    "    temp = pd.value_counts(train[target])/pd.value_counts(train[target]).sum()\n",
    "    if temp[0] < temp[1]:\n",
    "        print(i)"
   ]
  },
  {
   "cell_type": "code",
   "execution_count": 24,
   "id": "extended-offer",
   "metadata": {},
   "outputs": [],
   "source": [
    "for i in range(1000):\n",
    "    train, test = train_test_split(scaled_data, stratify = scaled_data[target], random_state = i)\n",
    "    temp = pd.value_counts(train[target])/pd.value_counts(train[target]).sum()\n",
    "    if temp[0] < temp[1]:\n",
    "        print(i)"
   ]
  },
  {
   "cell_type": "code",
   "execution_count": 25,
   "id": "metallic-hypothetical",
   "metadata": {},
   "outputs": [
    {
     "data": {
      "text/plain": [
       "0   0.7962\n",
       "1   0.2038\n",
       "Name: Exited, dtype: float64"
      ]
     },
     "execution_count": 25,
     "metadata": {},
     "output_type": "execute_result"
    }
   ],
   "source": [
    "train, test = train_test_split(scaled_data, stratify = scaled_data[target], random_state = 809)\n",
    "pd.value_counts(train[target])/pd.value_counts(train[target]).sum()"
   ]
  },
  {
   "cell_type": "code",
   "execution_count": 26,
   "id": "sitting-working",
   "metadata": {},
   "outputs": [],
   "source": [
    "train, test = train_test_split(scaled_data, stratify = scaled_data[target], random_state = 809)\n",
    "x_train, y_train = train[features], train[target]\n",
    "x_test, y_test = test[features], test[target]"
   ]
  },
  {
   "cell_type": "markdown",
   "id": "radio-somewhere",
   "metadata": {},
   "source": [
    "## Linear Regression 80.47 Accuracy"
   ]
  },
  {
   "cell_type": "code",
   "execution_count": 27,
   "id": "australian-margin",
   "metadata": {},
   "outputs": [
    {
     "data": {
      "text/html": [
       "\n",
       "\n",
       "\n",
       "\n",
       "\n",
       "\n",
       "  <div class=\"bk-root\" id=\"3be36b43-7516-42aa-8a80-383a5bfb9132\" data-root-id=\"1004\"></div>\n"
      ]
     },
     "metadata": {},
     "output_type": "display_data"
    },
    {
     "data": {
      "application/javascript": [
       "(function(root) {\n",
       "  function embed_document(root) {\n",
       "    \n",
       "  var docs_json = {\"7785e071-43c5-4daf-87ab-c09c526c56d5\":{\"roots\":{\"references\":[{\"attributes\":{\"below\":[{\"id\":\"1015\"}],\"center\":[{\"id\":\"1017\"},{\"id\":\"1020\"},{\"id\":\"1030\"}],\"left\":[{\"id\":\"1018\"}],\"plot_height\":300,\"plot_width\":300,\"renderers\":[{\"id\":\"1027\"}],\"title\":{\"id\":\"1005\"},\"toolbar\":{\"id\":\"1022\"},\"x_range\":{\"id\":\"1007\"},\"x_scale\":{\"id\":\"1011\"},\"y_range\":{\"id\":\"1009\"},\"y_scale\":{\"id\":\"1013\"}},\"id\":\"1004\",\"subtype\":\"Figure\",\"type\":\"Plot\"},{\"attributes\":{\"text\":\"Confusion Matrix: Overall accuracy = 80.47%\"},\"id\":\"1005\",\"type\":\"Title\"},{\"attributes\":{},\"id\":\"1035\",\"type\":\"CategoricalTickFormatter\"},{\"attributes\":{\"factors\":[\"0\",\"1\"]},\"id\":\"1007\",\"type\":\"FactorRange\"},{\"attributes\":{},\"id\":\"1011\",\"type\":\"CategoricalScale\"},{\"attributes\":{\"factors\":[\"0\",\"1\"]},\"id\":\"1009\",\"type\":\"FactorRange\"},{\"attributes\":{},\"id\":\"1038\",\"type\":\"UnionRenderers\"},{\"attributes\":{\"axis_label\":\"True\",\"axis_line_color\":null,\"formatter\":{\"id\":\"1033\"},\"major_label_standoff\":0,\"major_label_text_font_size\":\"14px\",\"major_tick_line_color\":null,\"ticker\":{\"id\":\"1019\"}},\"id\":\"1018\",\"type\":\"CategoricalAxis\"},{\"attributes\":{\"axis_label\":\"Predicted\",\"axis_line_color\":null,\"formatter\":{\"id\":\"1035\"},\"major_label_orientation\":1.0,\"major_label_standoff\":0,\"major_label_text_font_size\":\"14px\",\"major_tick_line_color\":null,\"ticker\":{\"id\":\"1016\"}},\"id\":\"1015\",\"type\":\"CategoricalAxis\"},{\"attributes\":{},\"id\":\"1016\",\"type\":\"CategoricalTicker\"},{\"attributes\":{\"active_drag\":\"auto\",\"active_inspect\":\"auto\",\"active_multi\":null,\"active_scroll\":\"auto\",\"active_tap\":\"auto\",\"tools\":[{\"id\":\"1021\"}]},\"id\":\"1022\",\"type\":\"Toolbar\"},{\"attributes\":{\"axis\":{\"id\":\"1018\"},\"dimension\":1,\"ticker\":null},\"id\":\"1020\",\"type\":\"Grid\"},{\"attributes\":{\"axis\":{\"id\":\"1015\"},\"ticker\":null},\"id\":\"1017\",\"type\":\"Grid\"},{\"attributes\":{},\"id\":\"1033\",\"type\":\"CategoricalTickFormatter\"},{\"attributes\":{},\"id\":\"1013\",\"type\":\"CategoricalScale\"},{\"attributes\":{\"callback\":null,\"tooltips\":[[\"True\",\"@{True}\"],[\"Predicted\",\"@{Predicted}\"],[\"Count\",\"@value\"]]},\"id\":\"1021\",\"type\":\"HoverTool\"},{\"attributes\":{\"source\":{\"id\":\"1002\"}},\"id\":\"1028\",\"type\":\"CDSView\"},{\"attributes\":{},\"id\":\"1037\",\"type\":\"Selection\"},{\"attributes\":{\"fill_alpha\":{\"value\":0.1},\"fill_color\":{\"field\":\"value\",\"transform\":{\"id\":\"1003\"}},\"height\":{\"units\":\"data\",\"value\":1},\"line_alpha\":{\"value\":0.1},\"line_color\":{\"value\":\"grey\"},\"width\":{\"units\":\"data\",\"value\":1},\"x\":{\"field\":\"Predicted\"},\"y\":{\"field\":\"True\"}},\"id\":\"1026\",\"type\":\"Rect\"},{\"attributes\":{\"data\":{\"Predicted\":[\"0\",\"1\",\"0\",\"1\"],\"True\":[\"0\",\"0\",\"1\",\"1\"],\"index\":[0,1,2,3],\"value\":[1939,46,441,67]},\"selected\":{\"id\":\"1037\"},\"selection_policy\":{\"id\":\"1038\"}},\"id\":\"1002\",\"type\":\"ColumnDataSource\"},{\"attributes\":{\"source\":{\"id\":\"1002\"},\"text\":{\"field\":\"value\"},\"text_color\":{\"value\":\"white\"},\"x\":{\"field\":\"Predicted\"},\"x_offset\":{\"value\":50},\"y\":{\"field\":\"True\"},\"y_offset\":{\"value\":50}},\"id\":\"1030\",\"type\":\"LabelSet\"},{\"attributes\":{\"fill_color\":{\"field\":\"value\",\"transform\":{\"id\":\"1003\"}},\"height\":{\"units\":\"data\",\"value\":1},\"line_color\":{\"value\":\"grey\"},\"width\":{\"units\":\"data\",\"value\":1},\"x\":{\"field\":\"Predicted\"},\"y\":{\"field\":\"True\"}},\"id\":\"1025\",\"type\":\"Rect\"},{\"attributes\":{\"palette\":[\"#053061\",\"#2166ac\",\"#4393c3\",\"#92c5de\",\"#d1e5f0\",\"#fddbc7\",\"#f4a582\",\"#d6604d\",\"#b2182b\",\"#67001f\"]},\"id\":\"1003\",\"type\":\"LinearColorMapper\"},{\"attributes\":{},\"id\":\"1019\",\"type\":\"CategoricalTicker\"},{\"attributes\":{\"data_source\":{\"id\":\"1002\"},\"glyph\":{\"id\":\"1025\"},\"hover_glyph\":null,\"muted_glyph\":null,\"nonselection_glyph\":{\"id\":\"1026\"},\"selection_glyph\":null,\"view\":{\"id\":\"1028\"}},\"id\":\"1027\",\"type\":\"GlyphRenderer\"}],\"root_ids\":[\"1004\"]},\"title\":\"Bokeh Application\",\"version\":\"2.2.3\"}};\n",
       "  var render_items = [{\"docid\":\"7785e071-43c5-4daf-87ab-c09c526c56d5\",\"root_ids\":[\"1004\"],\"roots\":{\"1004\":\"3be36b43-7516-42aa-8a80-383a5bfb9132\"}}];\n",
       "  root.Bokeh.embed.embed_items_notebook(docs_json, render_items);\n",
       "\n",
       "  }\n",
       "  if (root.Bokeh !== undefined) {\n",
       "    embed_document(root);\n",
       "  } else {\n",
       "    var attempts = 0;\n",
       "    var timer = setInterval(function(root) {\n",
       "      if (root.Bokeh !== undefined) {\n",
       "        clearInterval(timer);\n",
       "        embed_document(root);\n",
       "      } else {\n",
       "        attempts++;\n",
       "        if (attempts > 100) {\n",
       "          clearInterval(timer);\n",
       "          console.log(\"Bokeh: ERROR: Unable to run BokehJS code because BokehJS library is missing\");\n",
       "        }\n",
       "      }\n",
       "    }, 10, root)\n",
       "  }\n",
       "})(window);"
      ],
      "application/vnd.bokehjs_exec.v0+json": ""
     },
     "metadata": {
      "application/vnd.bokehjs_exec.v0+json": {
       "id": "1004"
      }
     },
     "output_type": "display_data"
    }
   ],
   "source": [
    "import statsmodels.formula.api as smf\n",
    "\n",
    "formula = f\"{target} ~ {' + '.join(features)}\"\n",
    "\n",
    "model = smf.ols(\n",
    "    formula = formula, \n",
    "    data = train)\n",
    "\n",
    "fit_model = model.fit()\n",
    "\n",
    "fit_model.summary()\n",
    "\n",
    "predictions = fit_model.predict(test[features])\n",
    "\n",
    "predictions =(predictions > 0.5).astype(int)\n",
    " \n",
    "predictions\n",
    "\n",
    "predictions = fit_model.predict(test[features])\n",
    "\n",
    "predictions = (predictions > 0.5).astype(int)\n",
    "\n",
    "plot_confusion_matrix(y_test.values, predictions.values)"
   ]
  },
  {
   "cell_type": "markdown",
   "id": "better-client",
   "metadata": {},
   "source": [
    "## Logistic Regression 80.14 Accuracy"
   ]
  },
  {
   "cell_type": "code",
   "execution_count": 29,
   "id": "super-moscow",
   "metadata": {},
   "outputs": [
    {
     "data": {
      "text/html": [
       "\n",
       "\n",
       "\n",
       "\n",
       "\n",
       "\n",
       "  <div class=\"bk-root\" id=\"6cd87857-2ba9-40cd-8877-b6d13b3929bf\" data-root-id=\"1076\"></div>\n"
      ]
     },
     "metadata": {},
     "output_type": "display_data"
    },
    {
     "data": {
      "application/javascript": [
       "(function(root) {\n",
       "  function embed_document(root) {\n",
       "    \n",
       "  var docs_json = {\"96bd8291-e8af-432a-b947-aa0eb5e209d0\":{\"roots\":{\"references\":[{\"attributes\":{\"below\":[{\"id\":\"1087\"}],\"center\":[{\"id\":\"1089\"},{\"id\":\"1092\"},{\"id\":\"1102\"}],\"left\":[{\"id\":\"1090\"}],\"plot_height\":300,\"plot_width\":300,\"renderers\":[{\"id\":\"1099\"}],\"title\":{\"id\":\"1077\"},\"toolbar\":{\"id\":\"1094\"},\"x_range\":{\"id\":\"1079\"},\"x_scale\":{\"id\":\"1083\"},\"y_range\":{\"id\":\"1081\"},\"y_scale\":{\"id\":\"1085\"}},\"id\":\"1076\",\"subtype\":\"Figure\",\"type\":\"Plot\"},{\"attributes\":{\"source\":{\"id\":\"1074\"},\"text\":{\"field\":\"value\"},\"text_color\":{\"value\":\"white\"},\"x\":{\"field\":\"Predicted\"},\"x_offset\":{\"value\":50},\"y\":{\"field\":\"True\"},\"y_offset\":{\"value\":50}},\"id\":\"1102\",\"type\":\"LabelSet\"},{\"attributes\":{\"fill_alpha\":{\"value\":0.1},\"fill_color\":{\"field\":\"value\",\"transform\":{\"id\":\"1075\"}},\"height\":{\"units\":\"data\",\"value\":1},\"line_alpha\":{\"value\":0.1},\"line_color\":{\"value\":\"grey\"},\"width\":{\"units\":\"data\",\"value\":1},\"x\":{\"field\":\"Predicted\"},\"y\":{\"field\":\"True\"}},\"id\":\"1098\",\"type\":\"Rect\"},{\"attributes\":{},\"id\":\"1114\",\"type\":\"CategoricalTickFormatter\"},{\"attributes\":{\"source\":{\"id\":\"1074\"}},\"id\":\"1100\",\"type\":\"CDSView\"},{\"attributes\":{\"data_source\":{\"id\":\"1074\"},\"glyph\":{\"id\":\"1097\"},\"hover_glyph\":null,\"muted_glyph\":null,\"nonselection_glyph\":{\"id\":\"1098\"},\"selection_glyph\":null,\"view\":{\"id\":\"1100\"}},\"id\":\"1099\",\"type\":\"GlyphRenderer\"},{\"attributes\":{\"factors\":[\"0\",\"1\"]},\"id\":\"1081\",\"type\":\"FactorRange\"},{\"attributes\":{\"axis\":{\"id\":\"1087\"},\"ticker\":null},\"id\":\"1089\",\"type\":\"Grid\"},{\"attributes\":{},\"id\":\"1088\",\"type\":\"CategoricalTicker\"},{\"attributes\":{\"axis_label\":\"True\",\"axis_line_color\":null,\"formatter\":{\"id\":\"1112\"},\"major_label_standoff\":0,\"major_label_text_font_size\":\"14px\",\"major_tick_line_color\":null,\"ticker\":{\"id\":\"1091\"}},\"id\":\"1090\",\"type\":\"CategoricalAxis\"},{\"attributes\":{},\"id\":\"1085\",\"type\":\"CategoricalScale\"},{\"attributes\":{\"text\":\"Confusion Matrix: Overall accuracy = 80.14%\"},\"id\":\"1077\",\"type\":\"Title\"},{\"attributes\":{\"fill_color\":{\"field\":\"value\",\"transform\":{\"id\":\"1075\"}},\"height\":{\"units\":\"data\",\"value\":1},\"line_color\":{\"value\":\"grey\"},\"width\":{\"units\":\"data\",\"value\":1},\"x\":{\"field\":\"Predicted\"},\"y\":{\"field\":\"True\"}},\"id\":\"1097\",\"type\":\"Rect\"},{\"attributes\":{\"active_drag\":\"auto\",\"active_inspect\":\"auto\",\"active_multi\":null,\"active_scroll\":\"auto\",\"active_tap\":\"auto\",\"tools\":[{\"id\":\"1093\"}]},\"id\":\"1094\",\"type\":\"Toolbar\"},{\"attributes\":{\"axis\":{\"id\":\"1090\"},\"dimension\":1,\"ticker\":null},\"id\":\"1092\",\"type\":\"Grid\"},{\"attributes\":{\"factors\":[\"0\",\"1\"]},\"id\":\"1079\",\"type\":\"FactorRange\"},{\"attributes\":{},\"id\":\"1112\",\"type\":\"CategoricalTickFormatter\"},{\"attributes\":{\"callback\":null,\"tooltips\":[[\"True\",\"@{True}\"],[\"Predicted\",\"@{Predicted}\"],[\"Count\",\"@value\"]]},\"id\":\"1093\",\"type\":\"HoverTool\"},{\"attributes\":{},\"id\":\"1116\",\"type\":\"Selection\"},{\"attributes\":{},\"id\":\"1091\",\"type\":\"CategoricalTicker\"},{\"attributes\":{},\"id\":\"1117\",\"type\":\"UnionRenderers\"},{\"attributes\":{\"palette\":[\"#053061\",\"#2166ac\",\"#4393c3\",\"#92c5de\",\"#d1e5f0\",\"#fddbc7\",\"#f4a582\",\"#d6604d\",\"#b2182b\",\"#67001f\"]},\"id\":\"1075\",\"type\":\"LinearColorMapper\"},{\"attributes\":{\"data\":{\"Predicted\":[\"0\",\"1\",\"0\",\"1\"],\"True\":[\"0\",\"0\",\"1\",\"1\"],\"index\":[0,1,2,3],\"value\":[1893,92,403,105]},\"selected\":{\"id\":\"1116\"},\"selection_policy\":{\"id\":\"1117\"}},\"id\":\"1074\",\"type\":\"ColumnDataSource\"},{\"attributes\":{},\"id\":\"1083\",\"type\":\"CategoricalScale\"},{\"attributes\":{\"axis_label\":\"Predicted\",\"axis_line_color\":null,\"formatter\":{\"id\":\"1114\"},\"major_label_orientation\":1.0,\"major_label_standoff\":0,\"major_label_text_font_size\":\"14px\",\"major_tick_line_color\":null,\"ticker\":{\"id\":\"1088\"}},\"id\":\"1087\",\"type\":\"CategoricalAxis\"}],\"root_ids\":[\"1076\"]},\"title\":\"Bokeh Application\",\"version\":\"2.2.3\"}};\n",
       "  var render_items = [{\"docid\":\"96bd8291-e8af-432a-b947-aa0eb5e209d0\",\"root_ids\":[\"1076\"],\"roots\":{\"1076\":\"6cd87857-2ba9-40cd-8877-b6d13b3929bf\"}}];\n",
       "  root.Bokeh.embed.embed_items_notebook(docs_json, render_items);\n",
       "\n",
       "  }\n",
       "  if (root.Bokeh !== undefined) {\n",
       "    embed_document(root);\n",
       "  } else {\n",
       "    var attempts = 0;\n",
       "    var timer = setInterval(function(root) {\n",
       "      if (root.Bokeh !== undefined) {\n",
       "        clearInterval(timer);\n",
       "        embed_document(root);\n",
       "      } else {\n",
       "        attempts++;\n",
       "        if (attempts > 100) {\n",
       "          clearInterval(timer);\n",
       "          console.log(\"Bokeh: ERROR: Unable to run BokehJS code because BokehJS library is missing\");\n",
       "        }\n",
       "      }\n",
       "    }, 10, root)\n",
       "  }\n",
       "})(window);"
      ],
      "application/vnd.bokehjs_exec.v0+json": ""
     },
     "metadata": {
      "application/vnd.bokehjs_exec.v0+json": {
       "id": "1076"
      }
     },
     "output_type": "display_data"
    }
   ],
   "source": [
    "from sklearn.linear_model import LogisticRegression\n",
    "clf = LogisticRegression(random_state=0, solver = 'newton-cg')\n",
    "\n",
    "clf = clf.fit(x_train, y_train)\n",
    "\n",
    "clf.score(x_test, y_test)\n",
    "\n",
    "predictions = clf.predict(x_test)\n",
    "plot_confusion_matrix(y_test, predictions)"
   ]
  },
  {
   "cell_type": "markdown",
   "id": "smoking-sleep",
   "metadata": {},
   "source": [
    "## Decision Tree 83.31 Accuracy"
   ]
  },
  {
   "cell_type": "code",
   "execution_count": 31,
   "id": "spiritual-assault",
   "metadata": {},
   "outputs": [
    {
     "name": "stdout",
     "output_type": "stream",
     "text": [
      "Max depth = 1: 0.7962294424388288\n",
      "Max depth = 2: 0.8215002005615724\n",
      "Max depth = 3: 0.8331327717609306\n",
      "Max depth = 4: 0.8435619735258725\n",
      "Max depth = 5: 0.8435619735258725\n",
      "Max depth = 6: 0.8515844364219816\n",
      "Max depth = 7: 0.8427597272362616\n",
      "Max depth = 8: 0.8447653429602888\n",
      "Max depth = 9: 0.8363417569193743\n",
      "|--- Age <= 0.34\n",
      "|   |--- NumOfProducts <= 1.67\n",
      "|   |   |--- NumOfProducts <= -0.05\n",
      "|   |   |   |--- class: 0\n",
      "|   |   |--- NumOfProducts >  -0.05\n",
      "|   |   |   |--- class: 0\n",
      "|   |--- NumOfProducts >  1.67\n",
      "|   |   |--- Balance <= -0.31\n",
      "|   |   |   |--- class: 1\n",
      "|   |   |--- Balance >  -0.31\n",
      "|   |   |   |--- class: 1\n",
      "|--- Age >  0.34\n",
      "|   |--- IsActiveMember <= -0.03\n",
      "|   |   |--- Age <= 1.10\n",
      "|   |   |   |--- class: 0\n",
      "|   |   |--- Age >  1.10\n",
      "|   |   |   |--- class: 1\n",
      "|   |--- IsActiveMember >  -0.03\n",
      "|   |   |--- NumOfProducts <= 1.67\n",
      "|   |   |   |--- class: 0\n",
      "|   |   |--- NumOfProducts >  1.67\n",
      "|   |   |   |--- class: 1\n",
      "\n"
     ]
    },
    {
     "data": {
      "text/html": [
       "\n",
       "\n",
       "\n",
       "\n",
       "\n",
       "\n",
       "  <div class=\"bk-root\" id=\"56deaf60-cf4b-4f0f-bfdb-8390e2bb0e6b\" data-root-id=\"1155\"></div>\n"
      ]
     },
     "metadata": {},
     "output_type": "display_data"
    },
    {
     "data": {
      "application/javascript": [
       "(function(root) {\n",
       "  function embed_document(root) {\n",
       "    \n",
       "  var docs_json = {\"18068f06-8147-459b-a555-12037bdf15d4\":{\"roots\":{\"references\":[{\"attributes\":{\"below\":[{\"id\":\"1166\"}],\"center\":[{\"id\":\"1168\"},{\"id\":\"1171\"},{\"id\":\"1181\"}],\"left\":[{\"id\":\"1169\"}],\"plot_height\":300,\"plot_width\":300,\"renderers\":[{\"id\":\"1178\"}],\"title\":{\"id\":\"1156\"},\"toolbar\":{\"id\":\"1173\"},\"x_range\":{\"id\":\"1158\"},\"x_scale\":{\"id\":\"1162\"},\"y_range\":{\"id\":\"1160\"},\"y_scale\":{\"id\":\"1164\"}},\"id\":\"1155\",\"subtype\":\"Figure\",\"type\":\"Plot\"},{\"attributes\":{\"factors\":[\"0\",\"1\"]},\"id\":\"1160\",\"type\":\"FactorRange\"},{\"attributes\":{\"factors\":[\"0\",\"1\"]},\"id\":\"1158\",\"type\":\"FactorRange\"},{\"attributes\":{\"text\":\"Confusion Matrix: Overall accuracy = 83.31%\"},\"id\":\"1156\",\"type\":\"Title\"},{\"attributes\":{},\"id\":\"1200\",\"type\":\"CategoricalTickFormatter\"},{\"attributes\":{\"axis_label\":\"Predicted\",\"axis_line_color\":null,\"formatter\":{\"id\":\"1200\"},\"major_label_orientation\":1.0,\"major_label_standoff\":0,\"major_label_text_font_size\":\"14px\",\"major_tick_line_color\":null,\"ticker\":{\"id\":\"1167\"}},\"id\":\"1166\",\"type\":\"CategoricalAxis\"},{\"attributes\":{\"source\":{\"id\":\"1153\"},\"text\":{\"field\":\"value\"},\"text_color\":{\"value\":\"white\"},\"x\":{\"field\":\"Predicted\"},\"x_offset\":{\"value\":50},\"y\":{\"field\":\"True\"},\"y_offset\":{\"value\":50}},\"id\":\"1181\",\"type\":\"LabelSet\"},{\"attributes\":{},\"id\":\"1162\",\"type\":\"CategoricalScale\"},{\"attributes\":{\"fill_alpha\":{\"value\":0.1},\"fill_color\":{\"field\":\"value\",\"transform\":{\"id\":\"1154\"}},\"height\":{\"units\":\"data\",\"value\":1},\"line_alpha\":{\"value\":0.1},\"line_color\":{\"value\":\"grey\"},\"width\":{\"units\":\"data\",\"value\":1},\"x\":{\"field\":\"Predicted\"},\"y\":{\"field\":\"True\"}},\"id\":\"1177\",\"type\":\"Rect\"},{\"attributes\":{\"source\":{\"id\":\"1153\"}},\"id\":\"1179\",\"type\":\"CDSView\"},{\"attributes\":{\"data_source\":{\"id\":\"1153\"},\"glyph\":{\"id\":\"1176\"},\"hover_glyph\":null,\"muted_glyph\":null,\"nonselection_glyph\":{\"id\":\"1177\"},\"selection_glyph\":null,\"view\":{\"id\":\"1179\"}},\"id\":\"1178\",\"type\":\"GlyphRenderer\"},{\"attributes\":{},\"id\":\"1202\",\"type\":\"Selection\"},{\"attributes\":{},\"id\":\"1203\",\"type\":\"UnionRenderers\"},{\"attributes\":{\"fill_color\":{\"field\":\"value\",\"transform\":{\"id\":\"1154\"}},\"height\":{\"units\":\"data\",\"value\":1},\"line_color\":{\"value\":\"grey\"},\"width\":{\"units\":\"data\",\"value\":1},\"x\":{\"field\":\"Predicted\"},\"y\":{\"field\":\"True\"}},\"id\":\"1176\",\"type\":\"Rect\"},{\"attributes\":{\"active_drag\":\"auto\",\"active_inspect\":\"auto\",\"active_multi\":null,\"active_scroll\":\"auto\",\"active_tap\":\"auto\",\"tools\":[{\"id\":\"1172\"}]},\"id\":\"1173\",\"type\":\"Toolbar\"},{\"attributes\":{},\"id\":\"1170\",\"type\":\"CategoricalTicker\"},{\"attributes\":{\"axis\":{\"id\":\"1166\"},\"ticker\":null},\"id\":\"1168\",\"type\":\"Grid\"},{\"attributes\":{},\"id\":\"1164\",\"type\":\"CategoricalScale\"},{\"attributes\":{\"axis\":{\"id\":\"1169\"},\"dimension\":1,\"ticker\":null},\"id\":\"1171\",\"type\":\"Grid\"},{\"attributes\":{\"data\":{\"Predicted\":[\"0\",\"1\",\"0\",\"1\"],\"True\":[\"0\",\"0\",\"1\",\"1\"],\"index\":[0,1,2,3],\"value\":[1954,31,385,123]},\"selected\":{\"id\":\"1202\"},\"selection_policy\":{\"id\":\"1203\"}},\"id\":\"1153\",\"type\":\"ColumnDataSource\"},{\"attributes\":{},\"id\":\"1167\",\"type\":\"CategoricalTicker\"},{\"attributes\":{\"palette\":[\"#053061\",\"#2166ac\",\"#4393c3\",\"#92c5de\",\"#d1e5f0\",\"#fddbc7\",\"#f4a582\",\"#d6604d\",\"#b2182b\",\"#67001f\"]},\"id\":\"1154\",\"type\":\"LinearColorMapper\"},{\"attributes\":{},\"id\":\"1198\",\"type\":\"CategoricalTickFormatter\"},{\"attributes\":{\"callback\":null,\"tooltips\":[[\"True\",\"@{True}\"],[\"Predicted\",\"@{Predicted}\"],[\"Count\",\"@value\"]]},\"id\":\"1172\",\"type\":\"HoverTool\"},{\"attributes\":{\"axis_label\":\"True\",\"axis_line_color\":null,\"formatter\":{\"id\":\"1198\"},\"major_label_standoff\":0,\"major_label_text_font_size\":\"14px\",\"major_tick_line_color\":null,\"ticker\":{\"id\":\"1170\"}},\"id\":\"1169\",\"type\":\"CategoricalAxis\"}],\"root_ids\":[\"1155\"]},\"title\":\"Bokeh Application\",\"version\":\"2.2.3\"}};\n",
       "  var render_items = [{\"docid\":\"18068f06-8147-459b-a555-12037bdf15d4\",\"root_ids\":[\"1155\"],\"roots\":{\"1155\":\"56deaf60-cf4b-4f0f-bfdb-8390e2bb0e6b\"}}];\n",
       "  root.Bokeh.embed.embed_items_notebook(docs_json, render_items);\n",
       "\n",
       "  }\n",
       "  if (root.Bokeh !== undefined) {\n",
       "    embed_document(root);\n",
       "  } else {\n",
       "    var attempts = 0;\n",
       "    var timer = setInterval(function(root) {\n",
       "      if (root.Bokeh !== undefined) {\n",
       "        clearInterval(timer);\n",
       "        embed_document(root);\n",
       "      } else {\n",
       "        attempts++;\n",
       "        if (attempts > 100) {\n",
       "          clearInterval(timer);\n",
       "          console.log(\"Bokeh: ERROR: Unable to run BokehJS code because BokehJS library is missing\");\n",
       "        }\n",
       "      }\n",
       "    }, 10, root)\n",
       "  }\n",
       "})(window);"
      ],
      "application/vnd.bokehjs_exec.v0+json": ""
     },
     "metadata": {
      "application/vnd.bokehjs_exec.v0+json": {
       "id": "1155"
      }
     },
     "output_type": "display_data"
    }
   ],
   "source": [
    "from sklearn import tree\n",
    "\n",
    "clf = tree.DecisionTreeClassifier()\n",
    "\n",
    "clf = clf.fit(x_train, y_train)\n",
    "\n",
    "clf.score(x_test, y_test)\n",
    "\n",
    "for max_depth in range(1, 10):\n",
    "    clf = tree.DecisionTreeClassifier(max_depth = max_depth, random_state = 0)\n",
    "\n",
    "    clf = clf.fit(x_train, y_train)\n",
    "    \n",
    "    score = clf.score(x_test, y_test)\n",
    "    \n",
    "    print(f'Max depth = {max_depth}: {score}') \n",
    "    \n",
    "clf = tree.DecisionTreeClassifier(max_depth = 3, random_state = 0)\n",
    "\n",
    "clf = clf.fit(x_train, y_train)\n",
    "\n",
    "score = clf.score(x_test, y_test)\n",
    "\n",
    "print(tree.export_text(clf, feature_names = features))\n",
    "\n",
    "predictions = clf.predict(x_test)\n",
    "plot_confusion_matrix(y_test, predictions)"
   ]
  },
  {
   "cell_type": "markdown",
   "id": "competitive-software",
   "metadata": {},
   "source": [
    "## Random Forest 85 Accuracy "
   ]
  },
  {
   "cell_type": "code",
   "execution_count": 32,
   "id": "maritime-tampa",
   "metadata": {},
   "outputs": [
    {
     "data": {
      "text/html": [
       "\n",
       "\n",
       "\n",
       "\n",
       "\n",
       "\n",
       "  <div class=\"bk-root\" id=\"aa875d18-5776-4baf-a078-35f97cc22117\" data-root-id=\"1241\"></div>\n"
      ]
     },
     "metadata": {},
     "output_type": "display_data"
    },
    {
     "data": {
      "application/javascript": [
       "(function(root) {\n",
       "  function embed_document(root) {\n",
       "    \n",
       "  var docs_json = {\"bb0231ae-c1bf-492d-898b-e0f287bd3fda\":{\"roots\":{\"references\":[{\"attributes\":{\"below\":[{\"id\":\"1252\"}],\"center\":[{\"id\":\"1254\"},{\"id\":\"1257\"},{\"id\":\"1267\"}],\"left\":[{\"id\":\"1255\"}],\"plot_height\":300,\"plot_width\":300,\"renderers\":[{\"id\":\"1264\"}],\"title\":{\"id\":\"1242\"},\"toolbar\":{\"id\":\"1259\"},\"x_range\":{\"id\":\"1244\"},\"x_scale\":{\"id\":\"1248\"},\"y_range\":{\"id\":\"1246\"},\"y_scale\":{\"id\":\"1250\"}},\"id\":\"1241\",\"subtype\":\"Figure\",\"type\":\"Plot\"},{\"attributes\":{\"fill_alpha\":{\"value\":0.1},\"fill_color\":{\"field\":\"value\",\"transform\":{\"id\":\"1240\"}},\"height\":{\"units\":\"data\",\"value\":1},\"line_alpha\":{\"value\":0.1},\"line_color\":{\"value\":\"grey\"},\"width\":{\"units\":\"data\",\"value\":1},\"x\":{\"field\":\"Predicted\"},\"y\":{\"field\":\"True\"}},\"id\":\"1263\",\"type\":\"Rect\"},{\"attributes\":{\"source\":{\"id\":\"1239\"}},\"id\":\"1265\",\"type\":\"CDSView\"},{\"attributes\":{},\"id\":\"1295\",\"type\":\"Selection\"},{\"attributes\":{\"source\":{\"id\":\"1239\"},\"text\":{\"field\":\"value\"},\"text_color\":{\"value\":\"white\"},\"x\":{\"field\":\"Predicted\"},\"x_offset\":{\"value\":50},\"y\":{\"field\":\"True\"},\"y_offset\":{\"value\":50}},\"id\":\"1267\",\"type\":\"LabelSet\"},{\"attributes\":{},\"id\":\"1296\",\"type\":\"UnionRenderers\"},{\"attributes\":{\"factors\":[\"0\",\"1\"]},\"id\":\"1246\",\"type\":\"FactorRange\"},{\"attributes\":{},\"id\":\"1293\",\"type\":\"CategoricalTickFormatter\"},{\"attributes\":{\"active_drag\":\"auto\",\"active_inspect\":\"auto\",\"active_multi\":null,\"active_scroll\":\"auto\",\"active_tap\":\"auto\",\"tools\":[{\"id\":\"1258\"}]},\"id\":\"1259\",\"type\":\"Toolbar\"},{\"attributes\":{},\"id\":\"1291\",\"type\":\"CategoricalTickFormatter\"},{\"attributes\":{\"data\":{\"Predicted\":[\"0\",\"1\",\"0\",\"1\"],\"True\":[\"0\",\"0\",\"1\",\"1\"],\"index\":[0,1,2,3],\"value\":[1903,82,292,216]},\"selected\":{\"id\":\"1295\"},\"selection_policy\":{\"id\":\"1296\"}},\"id\":\"1239\",\"type\":\"ColumnDataSource\"},{\"attributes\":{},\"id\":\"1250\",\"type\":\"CategoricalScale\"},{\"attributes\":{},\"id\":\"1253\",\"type\":\"CategoricalTicker\"},{\"attributes\":{\"fill_color\":{\"field\":\"value\",\"transform\":{\"id\":\"1240\"}},\"height\":{\"units\":\"data\",\"value\":1},\"line_color\":{\"value\":\"grey\"},\"width\":{\"units\":\"data\",\"value\":1},\"x\":{\"field\":\"Predicted\"},\"y\":{\"field\":\"True\"}},\"id\":\"1262\",\"type\":\"Rect\"},{\"attributes\":{\"text\":\"Confusion Matrix: Overall accuracy = 85.0%\"},\"id\":\"1242\",\"type\":\"Title\"},{\"attributes\":{\"axis_label\":\"True\",\"axis_line_color\":null,\"formatter\":{\"id\":\"1291\"},\"major_label_standoff\":0,\"major_label_text_font_size\":\"14px\",\"major_tick_line_color\":null,\"ticker\":{\"id\":\"1256\"}},\"id\":\"1255\",\"type\":\"CategoricalAxis\"},{\"attributes\":{\"axis_label\":\"Predicted\",\"axis_line_color\":null,\"formatter\":{\"id\":\"1293\"},\"major_label_orientation\":1.0,\"major_label_standoff\":0,\"major_label_text_font_size\":\"14px\",\"major_tick_line_color\":null,\"ticker\":{\"id\":\"1253\"}},\"id\":\"1252\",\"type\":\"CategoricalAxis\"},{\"attributes\":{\"factors\":[\"0\",\"1\"]},\"id\":\"1244\",\"type\":\"FactorRange\"},{\"attributes\":{\"axis\":{\"id\":\"1255\"},\"dimension\":1,\"ticker\":null},\"id\":\"1257\",\"type\":\"Grid\"},{\"attributes\":{},\"id\":\"1248\",\"type\":\"CategoricalScale\"},{\"attributes\":{\"callback\":null,\"tooltips\":[[\"True\",\"@{True}\"],[\"Predicted\",\"@{Predicted}\"],[\"Count\",\"@value\"]]},\"id\":\"1258\",\"type\":\"HoverTool\"},{\"attributes\":{\"palette\":[\"#053061\",\"#2166ac\",\"#4393c3\",\"#92c5de\",\"#d1e5f0\",\"#fddbc7\",\"#f4a582\",\"#d6604d\",\"#b2182b\",\"#67001f\"]},\"id\":\"1240\",\"type\":\"LinearColorMapper\"},{\"attributes\":{},\"id\":\"1256\",\"type\":\"CategoricalTicker\"},{\"attributes\":{\"axis\":{\"id\":\"1252\"},\"ticker\":null},\"id\":\"1254\",\"type\":\"Grid\"},{\"attributes\":{\"data_source\":{\"id\":\"1239\"},\"glyph\":{\"id\":\"1262\"},\"hover_glyph\":null,\"muted_glyph\":null,\"nonselection_glyph\":{\"id\":\"1263\"},\"selection_glyph\":null,\"view\":{\"id\":\"1265\"}},\"id\":\"1264\",\"type\":\"GlyphRenderer\"}],\"root_ids\":[\"1241\"]},\"title\":\"Bokeh Application\",\"version\":\"2.2.3\"}};\n",
       "  var render_items = [{\"docid\":\"bb0231ae-c1bf-492d-898b-e0f287bd3fda\",\"root_ids\":[\"1241\"],\"roots\":{\"1241\":\"aa875d18-5776-4baf-a078-35f97cc22117\"}}];\n",
       "  root.Bokeh.embed.embed_items_notebook(docs_json, render_items);\n",
       "\n",
       "  }\n",
       "  if (root.Bokeh !== undefined) {\n",
       "    embed_document(root);\n",
       "  } else {\n",
       "    var attempts = 0;\n",
       "    var timer = setInterval(function(root) {\n",
       "      if (root.Bokeh !== undefined) {\n",
       "        clearInterval(timer);\n",
       "        embed_document(root);\n",
       "      } else {\n",
       "        attempts++;\n",
       "        if (attempts > 100) {\n",
       "          clearInterval(timer);\n",
       "          console.log(\"Bokeh: ERROR: Unable to run BokehJS code because BokehJS library is missing\");\n",
       "        }\n",
       "      }\n",
       "    }, 10, root)\n",
       "  }\n",
       "})(window);"
      ],
      "application/vnd.bokehjs_exec.v0+json": ""
     },
     "metadata": {
      "application/vnd.bokehjs_exec.v0+json": {
       "id": "1241"
      }
     },
     "output_type": "display_data"
    }
   ],
   "source": [
    "from sklearn.ensemble import RandomForestClassifier\n",
    "\n",
    "clf = RandomForestClassifier(random_state = 0)\n",
    "\n",
    "clf = clf.fit(x_train, y_train)\n",
    "\n",
    "clf.score(x_test, y_test)\n",
    "\n",
    "y_hat = clf.predict(x_test)\n",
    "plot_confusion_matrix(y_test, y_hat)"
   ]
  },
  {
   "cell_type": "markdown",
   "id": "creative-yemen",
   "metadata": {},
   "source": [
    "## Gradient Boosted Trees 85.92 Accuracy "
   ]
  },
  {
   "cell_type": "code",
   "execution_count": 36,
   "id": "intended-fabric",
   "metadata": {},
   "outputs": [
    {
     "data": {
      "text/html": [
       "\n",
       "\n",
       "\n",
       "\n",
       "\n",
       "\n",
       "  <div class=\"bk-root\" id=\"60004c5f-574a-4398-8dba-5d7b7d85a3e7\" data-root-id=\"1541\"></div>\n"
      ]
     },
     "metadata": {},
     "output_type": "display_data"
    },
    {
     "data": {
      "application/javascript": [
       "(function(root) {\n",
       "  function embed_document(root) {\n",
       "    \n",
       "  var docs_json = {\"994c2dcf-7f41-45b7-8420-5732ca929de4\":{\"roots\":{\"references\":[{\"attributes\":{\"below\":[{\"id\":\"1552\"}],\"center\":[{\"id\":\"1554\"},{\"id\":\"1557\"},{\"id\":\"1567\"}],\"left\":[{\"id\":\"1555\"}],\"plot_height\":300,\"plot_width\":300,\"renderers\":[{\"id\":\"1564\"}],\"title\":{\"id\":\"1542\"},\"toolbar\":{\"id\":\"1559\"},\"x_range\":{\"id\":\"1544\"},\"x_scale\":{\"id\":\"1548\"},\"y_range\":{\"id\":\"1546\"},\"y_scale\":{\"id\":\"1550\"}},\"id\":\"1541\",\"subtype\":\"Figure\",\"type\":\"Plot\"},{\"attributes\":{},\"id\":\"1553\",\"type\":\"CategoricalTicker\"},{\"attributes\":{\"axis_label\":\"True\",\"axis_line_color\":null,\"formatter\":{\"id\":\"1612\"},\"major_label_standoff\":0,\"major_label_text_font_size\":\"14px\",\"major_tick_line_color\":null,\"ticker\":{\"id\":\"1556\"}},\"id\":\"1555\",\"type\":\"CategoricalAxis\"},{\"attributes\":{},\"id\":\"1617\",\"type\":\"UnionRenderers\"},{\"attributes\":{},\"id\":\"1548\",\"type\":\"CategoricalScale\"},{\"attributes\":{},\"id\":\"1616\",\"type\":\"Selection\"},{\"attributes\":{},\"id\":\"1612\",\"type\":\"CategoricalTickFormatter\"},{\"attributes\":{\"text\":\"Confusion Matrix: Overall accuracy = 85.92%\"},\"id\":\"1542\",\"type\":\"Title\"},{\"attributes\":{\"callback\":null,\"tooltips\":[[\"True\",\"@{True}\"],[\"Predicted\",\"@{Predicted}\"],[\"Count\",\"@value\"]]},\"id\":\"1558\",\"type\":\"HoverTool\"},{\"attributes\":{\"axis_label\":\"Predicted\",\"axis_line_color\":null,\"formatter\":{\"id\":\"1614\"},\"major_label_orientation\":1.0,\"major_label_standoff\":0,\"major_label_text_font_size\":\"14px\",\"major_tick_line_color\":null,\"ticker\":{\"id\":\"1553\"}},\"id\":\"1552\",\"type\":\"CategoricalAxis\"},{\"attributes\":{},\"id\":\"1614\",\"type\":\"CategoricalTickFormatter\"},{\"attributes\":{\"data\":{\"Predicted\":[\"0\",\"1\",\"0\",\"1\"],\"True\":[\"0\",\"0\",\"1\",\"1\"],\"index\":[0,1,2,3],\"value\":[1912,73,278,230]},\"selected\":{\"id\":\"1616\"},\"selection_policy\":{\"id\":\"1617\"}},\"id\":\"1539\",\"type\":\"ColumnDataSource\"},{\"attributes\":{\"palette\":[\"#053061\",\"#2166ac\",\"#4393c3\",\"#92c5de\",\"#d1e5f0\",\"#fddbc7\",\"#f4a582\",\"#d6604d\",\"#b2182b\",\"#67001f\"]},\"id\":\"1540\",\"type\":\"LinearColorMapper\"},{\"attributes\":{\"factors\":[\"0\",\"1\"]},\"id\":\"1544\",\"type\":\"FactorRange\"},{\"attributes\":{\"factors\":[\"0\",\"1\"]},\"id\":\"1546\",\"type\":\"FactorRange\"},{\"attributes\":{\"source\":{\"id\":\"1539\"},\"text\":{\"field\":\"value\"},\"text_color\":{\"value\":\"white\"},\"x\":{\"field\":\"Predicted\"},\"x_offset\":{\"value\":50},\"y\":{\"field\":\"True\"},\"y_offset\":{\"value\":50}},\"id\":\"1567\",\"type\":\"LabelSet\"},{\"attributes\":{\"fill_alpha\":{\"value\":0.1},\"fill_color\":{\"field\":\"value\",\"transform\":{\"id\":\"1540\"}},\"height\":{\"units\":\"data\",\"value\":1},\"line_alpha\":{\"value\":0.1},\"line_color\":{\"value\":\"grey\"},\"width\":{\"units\":\"data\",\"value\":1},\"x\":{\"field\":\"Predicted\"},\"y\":{\"field\":\"True\"}},\"id\":\"1563\",\"type\":\"Rect\"},{\"attributes\":{\"source\":{\"id\":\"1539\"}},\"id\":\"1565\",\"type\":\"CDSView\"},{\"attributes\":{\"data_source\":{\"id\":\"1539\"},\"glyph\":{\"id\":\"1562\"},\"hover_glyph\":null,\"muted_glyph\":null,\"nonselection_glyph\":{\"id\":\"1563\"},\"selection_glyph\":null,\"view\":{\"id\":\"1565\"}},\"id\":\"1564\",\"type\":\"GlyphRenderer\"},{\"attributes\":{\"fill_color\":{\"field\":\"value\",\"transform\":{\"id\":\"1540\"}},\"height\":{\"units\":\"data\",\"value\":1},\"line_color\":{\"value\":\"grey\"},\"width\":{\"units\":\"data\",\"value\":1},\"x\":{\"field\":\"Predicted\"},\"y\":{\"field\":\"True\"}},\"id\":\"1562\",\"type\":\"Rect\"},{\"attributes\":{\"active_drag\":\"auto\",\"active_inspect\":\"auto\",\"active_multi\":null,\"active_scroll\":\"auto\",\"active_tap\":\"auto\",\"tools\":[{\"id\":\"1558\"}]},\"id\":\"1559\",\"type\":\"Toolbar\"},{\"attributes\":{},\"id\":\"1556\",\"type\":\"CategoricalTicker\"},{\"attributes\":{\"axis\":{\"id\":\"1552\"},\"ticker\":null},\"id\":\"1554\",\"type\":\"Grid\"},{\"attributes\":{},\"id\":\"1550\",\"type\":\"CategoricalScale\"},{\"attributes\":{\"axis\":{\"id\":\"1555\"},\"dimension\":1,\"ticker\":null},\"id\":\"1557\",\"type\":\"Grid\"}],\"root_ids\":[\"1541\"]},\"title\":\"Bokeh Application\",\"version\":\"2.2.3\"}};\n",
       "  var render_items = [{\"docid\":\"994c2dcf-7f41-45b7-8420-5732ca929de4\",\"root_ids\":[\"1541\"],\"roots\":{\"1541\":\"60004c5f-574a-4398-8dba-5d7b7d85a3e7\"}}];\n",
       "  root.Bokeh.embed.embed_items_notebook(docs_json, render_items);\n",
       "\n",
       "  }\n",
       "  if (root.Bokeh !== undefined) {\n",
       "    embed_document(root);\n",
       "  } else {\n",
       "    var attempts = 0;\n",
       "    var timer = setInterval(function(root) {\n",
       "      if (root.Bokeh !== undefined) {\n",
       "        clearInterval(timer);\n",
       "        embed_document(root);\n",
       "      } else {\n",
       "        attempts++;\n",
       "        if (attempts > 100) {\n",
       "          clearInterval(timer);\n",
       "          console.log(\"Bokeh: ERROR: Unable to run BokehJS code because BokehJS library is missing\");\n",
       "        }\n",
       "      }\n",
       "    }, 10, root)\n",
       "  }\n",
       "})(window);"
      ],
      "application/vnd.bokehjs_exec.v0+json": ""
     },
     "metadata": {
      "application/vnd.bokehjs_exec.v0+json": {
       "id": "1541"
      }
     },
     "output_type": "display_data"
    }
   ],
   "source": [
    "from sklearn.ensemble import GradientBoostingClassifier\n",
    "\n",
    "clf = GradientBoostingClassifier(random_state = 0)\n",
    "\n",
    "clf = clf.fit(x_train, y_train)\n",
    "\n",
    "clf.score(x_test, y_test)\n",
    "\n",
    "predictions = clf.predict(x_test)\n",
    "plot_confusion_matrix(y_test, predictions)"
   ]
  },
  {
   "cell_type": "markdown",
   "id": "radio-bolivia",
   "metadata": {},
   "source": [
    "## AdaBoost 84.16 Accuracy"
   ]
  },
  {
   "cell_type": "code",
   "execution_count": 37,
   "id": "square-hotel",
   "metadata": {},
   "outputs": [
    {
     "data": {
      "text/html": [
       "\n",
       "\n",
       "\n",
       "\n",
       "\n",
       "\n",
       "  <div class=\"bk-root\" id=\"122b03c1-66a0-4e5e-9ff2-cd5516fe6035\" data-root-id=\"1655\"></div>\n"
      ]
     },
     "metadata": {},
     "output_type": "display_data"
    },
    {
     "data": {
      "application/javascript": [
       "(function(root) {\n",
       "  function embed_document(root) {\n",
       "    \n",
       "  var docs_json = {\"ee49c1ec-1c46-4fdc-98ee-7d44b6431ac0\":{\"roots\":{\"references\":[{\"attributes\":{\"below\":[{\"id\":\"1666\"}],\"center\":[{\"id\":\"1668\"},{\"id\":\"1671\"},{\"id\":\"1681\"}],\"left\":[{\"id\":\"1669\"}],\"plot_height\":300,\"plot_width\":300,\"renderers\":[{\"id\":\"1678\"}],\"title\":{\"id\":\"1656\"},\"toolbar\":{\"id\":\"1673\"},\"x_range\":{\"id\":\"1658\"},\"x_scale\":{\"id\":\"1662\"},\"y_range\":{\"id\":\"1660\"},\"y_scale\":{\"id\":\"1664\"}},\"id\":\"1655\",\"subtype\":\"Figure\",\"type\":\"Plot\"},{\"attributes\":{\"callback\":null,\"tooltips\":[[\"True\",\"@{True}\"],[\"Predicted\",\"@{Predicted}\"],[\"Count\",\"@value\"]]},\"id\":\"1672\",\"type\":\"HoverTool\"},{\"attributes\":{\"data_source\":{\"id\":\"1653\"},\"glyph\":{\"id\":\"1676\"},\"hover_glyph\":null,\"muted_glyph\":null,\"nonselection_glyph\":{\"id\":\"1677\"},\"selection_glyph\":null,\"view\":{\"id\":\"1679\"}},\"id\":\"1678\",\"type\":\"GlyphRenderer\"},{\"attributes\":{\"axis\":{\"id\":\"1669\"},\"dimension\":1,\"ticker\":null},\"id\":\"1671\",\"type\":\"Grid\"},{\"attributes\":{\"source\":{\"id\":\"1653\"}},\"id\":\"1679\",\"type\":\"CDSView\"},{\"attributes\":{\"factors\":[\"0\",\"1\"]},\"id\":\"1658\",\"type\":\"FactorRange\"},{\"attributes\":{\"fill_alpha\":{\"value\":0.1},\"fill_color\":{\"field\":\"value\",\"transform\":{\"id\":\"1654\"}},\"height\":{\"units\":\"data\",\"value\":1},\"line_alpha\":{\"value\":0.1},\"line_color\":{\"value\":\"grey\"},\"width\":{\"units\":\"data\",\"value\":1},\"x\":{\"field\":\"Predicted\"},\"y\":{\"field\":\"True\"}},\"id\":\"1677\",\"type\":\"Rect\"},{\"attributes\":{},\"id\":\"1667\",\"type\":\"CategoricalTicker\"},{\"attributes\":{\"data\":{\"Predicted\":[\"0\",\"1\",\"0\",\"1\"],\"True\":[\"0\",\"0\",\"1\",\"1\"],\"index\":[0,1,2,3],\"value\":[1870,115,280,228]},\"selected\":{\"id\":\"1737\"},\"selection_policy\":{\"id\":\"1738\"}},\"id\":\"1653\",\"type\":\"ColumnDataSource\"},{\"attributes\":{},\"id\":\"1670\",\"type\":\"CategoricalTicker\"},{\"attributes\":{},\"id\":\"1733\",\"type\":\"CategoricalTickFormatter\"},{\"attributes\":{},\"id\":\"1664\",\"type\":\"CategoricalScale\"},{\"attributes\":{},\"id\":\"1735\",\"type\":\"CategoricalTickFormatter\"},{\"attributes\":{\"text\":\"Confusion Matrix: Overall accuracy = 84.16%\"},\"id\":\"1656\",\"type\":\"Title\"},{\"attributes\":{\"active_drag\":\"auto\",\"active_inspect\":\"auto\",\"active_multi\":null,\"active_scroll\":\"auto\",\"active_tap\":\"auto\",\"tools\":[{\"id\":\"1672\"}]},\"id\":\"1673\",\"type\":\"Toolbar\"},{\"attributes\":{\"axis\":{\"id\":\"1666\"},\"ticker\":null},\"id\":\"1668\",\"type\":\"Grid\"},{\"attributes\":{},\"id\":\"1662\",\"type\":\"CategoricalScale\"},{\"attributes\":{\"axis_label\":\"True\",\"axis_line_color\":null,\"formatter\":{\"id\":\"1733\"},\"major_label_standoff\":0,\"major_label_text_font_size\":\"14px\",\"major_tick_line_color\":null,\"ticker\":{\"id\":\"1670\"}},\"id\":\"1669\",\"type\":\"CategoricalAxis\"},{\"attributes\":{\"source\":{\"id\":\"1653\"},\"text\":{\"field\":\"value\"},\"text_color\":{\"value\":\"white\"},\"x\":{\"field\":\"Predicted\"},\"x_offset\":{\"value\":50},\"y\":{\"field\":\"True\"},\"y_offset\":{\"value\":50}},\"id\":\"1681\",\"type\":\"LabelSet\"},{\"attributes\":{\"palette\":[\"#053061\",\"#2166ac\",\"#4393c3\",\"#92c5de\",\"#d1e5f0\",\"#fddbc7\",\"#f4a582\",\"#d6604d\",\"#b2182b\",\"#67001f\"]},\"id\":\"1654\",\"type\":\"LinearColorMapper\"},{\"attributes\":{\"factors\":[\"0\",\"1\"]},\"id\":\"1660\",\"type\":\"FactorRange\"},{\"attributes\":{\"axis_label\":\"Predicted\",\"axis_line_color\":null,\"formatter\":{\"id\":\"1735\"},\"major_label_orientation\":1.0,\"major_label_standoff\":0,\"major_label_text_font_size\":\"14px\",\"major_tick_line_color\":null,\"ticker\":{\"id\":\"1667\"}},\"id\":\"1666\",\"type\":\"CategoricalAxis\"},{\"attributes\":{},\"id\":\"1737\",\"type\":\"Selection\"},{\"attributes\":{\"fill_color\":{\"field\":\"value\",\"transform\":{\"id\":\"1654\"}},\"height\":{\"units\":\"data\",\"value\":1},\"line_color\":{\"value\":\"grey\"},\"width\":{\"units\":\"data\",\"value\":1},\"x\":{\"field\":\"Predicted\"},\"y\":{\"field\":\"True\"}},\"id\":\"1676\",\"type\":\"Rect\"},{\"attributes\":{},\"id\":\"1738\",\"type\":\"UnionRenderers\"}],\"root_ids\":[\"1655\"]},\"title\":\"Bokeh Application\",\"version\":\"2.2.3\"}};\n",
       "  var render_items = [{\"docid\":\"ee49c1ec-1c46-4fdc-98ee-7d44b6431ac0\",\"root_ids\":[\"1655\"],\"roots\":{\"1655\":\"122b03c1-66a0-4e5e-9ff2-cd5516fe6035\"}}];\n",
       "  root.Bokeh.embed.embed_items_notebook(docs_json, render_items);\n",
       "\n",
       "  }\n",
       "  if (root.Bokeh !== undefined) {\n",
       "    embed_document(root);\n",
       "  } else {\n",
       "    var attempts = 0;\n",
       "    var timer = setInterval(function(root) {\n",
       "      if (root.Bokeh !== undefined) {\n",
       "        clearInterval(timer);\n",
       "        embed_document(root);\n",
       "      } else {\n",
       "        attempts++;\n",
       "        if (attempts > 100) {\n",
       "          clearInterval(timer);\n",
       "          console.log(\"Bokeh: ERROR: Unable to run BokehJS code because BokehJS library is missing\");\n",
       "        }\n",
       "      }\n",
       "    }, 10, root)\n",
       "  }\n",
       "})(window);"
      ],
      "application/vnd.bokehjs_exec.v0+json": ""
     },
     "metadata": {
      "application/vnd.bokehjs_exec.v0+json": {
       "id": "1655"
      }
     },
     "output_type": "display_data"
    }
   ],
   "source": [
    "from sklearn.ensemble import AdaBoostClassifier\n",
    "\n",
    "clf = AdaBoostClassifier(random_state = 0)\n",
    "\n",
    "clf = clf.fit(x_train, y_train)\n",
    "\n",
    "clf.score(x_test, y_test)\n",
    "\n",
    "predictions = clf.predict(x_test)\n",
    "plot_confusion_matrix(y_test, predictions)"
   ]
  },
  {
   "cell_type": "markdown",
   "id": "regulation-grain",
   "metadata": {},
   "source": [
    "## Hyperparameter Tuning 84.76 Accuracy "
   ]
  },
  {
   "cell_type": "code",
   "execution_count": 38,
   "id": "simplified-circuit",
   "metadata": {},
   "outputs": [
    {
     "data": {
      "text/html": [
       "\n",
       "\n",
       "\n",
       "\n",
       "\n",
       "\n",
       "  <div class=\"bk-root\" id=\"4833a9a2-b069-4698-affb-5adb7135a82a\" data-root-id=\"1776\"></div>\n"
      ]
     },
     "metadata": {},
     "output_type": "display_data"
    },
    {
     "data": {
      "application/javascript": [
       "(function(root) {\n",
       "  function embed_document(root) {\n",
       "    \n",
       "  var docs_json = {\"13b35699-ce5b-4593-9b82-8aba5c71ff6b\":{\"roots\":{\"references\":[{\"attributes\":{\"below\":[{\"id\":\"1787\"}],\"center\":[{\"id\":\"1789\"},{\"id\":\"1792\"},{\"id\":\"1802\"}],\"left\":[{\"id\":\"1790\"}],\"plot_height\":300,\"plot_width\":300,\"renderers\":[{\"id\":\"1799\"}],\"title\":{\"id\":\"1777\"},\"toolbar\":{\"id\":\"1794\"},\"x_range\":{\"id\":\"1779\"},\"x_scale\":{\"id\":\"1783\"},\"y_range\":{\"id\":\"1781\"},\"y_scale\":{\"id\":\"1785\"}},\"id\":\"1776\",\"subtype\":\"Figure\",\"type\":\"Plot\"},{\"attributes\":{\"factors\":[\"0\",\"1\"]},\"id\":\"1779\",\"type\":\"FactorRange\"},{\"attributes\":{\"data\":{\"Predicted\":[\"0\",\"1\",\"0\",\"1\"],\"True\":[\"0\",\"0\",\"1\",\"1\"],\"index\":[0,1,2,3],\"value\":[1922,63,319,189]},\"selected\":{\"id\":\"1865\"},\"selection_policy\":{\"id\":\"1866\"}},\"id\":\"1774\",\"type\":\"ColumnDataSource\"},{\"attributes\":{\"axis\":{\"id\":\"1790\"},\"dimension\":1,\"ticker\":null},\"id\":\"1792\",\"type\":\"Grid\"},{\"attributes\":{\"factors\":[\"0\",\"1\"]},\"id\":\"1781\",\"type\":\"FactorRange\"},{\"attributes\":{},\"id\":\"1865\",\"type\":\"Selection\"},{\"attributes\":{},\"id\":\"1866\",\"type\":\"UnionRenderers\"},{\"attributes\":{},\"id\":\"1788\",\"type\":\"CategoricalTicker\"},{\"attributes\":{\"palette\":[\"#053061\",\"#2166ac\",\"#4393c3\",\"#92c5de\",\"#d1e5f0\",\"#fddbc7\",\"#f4a582\",\"#d6604d\",\"#b2182b\",\"#67001f\"]},\"id\":\"1775\",\"type\":\"LinearColorMapper\"},{\"attributes\":{\"active_drag\":\"auto\",\"active_inspect\":\"auto\",\"active_multi\":null,\"active_scroll\":\"auto\",\"active_tap\":\"auto\",\"tools\":[{\"id\":\"1793\"}]},\"id\":\"1794\",\"type\":\"Toolbar\"},{\"attributes\":{},\"id\":\"1863\",\"type\":\"CategoricalTickFormatter\"},{\"attributes\":{\"axis_label\":\"True\",\"axis_line_color\":null,\"formatter\":{\"id\":\"1861\"},\"major_label_standoff\":0,\"major_label_text_font_size\":\"14px\",\"major_tick_line_color\":null,\"ticker\":{\"id\":\"1791\"}},\"id\":\"1790\",\"type\":\"CategoricalAxis\"},{\"attributes\":{\"fill_alpha\":{\"value\":0.1},\"fill_color\":{\"field\":\"value\",\"transform\":{\"id\":\"1775\"}},\"height\":{\"units\":\"data\",\"value\":1},\"line_alpha\":{\"value\":0.1},\"line_color\":{\"value\":\"grey\"},\"width\":{\"units\":\"data\",\"value\":1},\"x\":{\"field\":\"Predicted\"},\"y\":{\"field\":\"True\"}},\"id\":\"1798\",\"type\":\"Rect\"},{\"attributes\":{\"axis\":{\"id\":\"1787\"},\"ticker\":null},\"id\":\"1789\",\"type\":\"Grid\"},{\"attributes\":{\"data_source\":{\"id\":\"1774\"},\"glyph\":{\"id\":\"1797\"},\"hover_glyph\":null,\"muted_glyph\":null,\"nonselection_glyph\":{\"id\":\"1798\"},\"selection_glyph\":null,\"view\":{\"id\":\"1800\"}},\"id\":\"1799\",\"type\":\"GlyphRenderer\"},{\"attributes\":{\"callback\":null,\"tooltips\":[[\"True\",\"@{True}\"],[\"Predicted\",\"@{Predicted}\"],[\"Count\",\"@value\"]]},\"id\":\"1793\",\"type\":\"HoverTool\"},{\"attributes\":{},\"id\":\"1861\",\"type\":\"CategoricalTickFormatter\"},{\"attributes\":{\"fill_color\":{\"field\":\"value\",\"transform\":{\"id\":\"1775\"}},\"height\":{\"units\":\"data\",\"value\":1},\"line_color\":{\"value\":\"grey\"},\"width\":{\"units\":\"data\",\"value\":1},\"x\":{\"field\":\"Predicted\"},\"y\":{\"field\":\"True\"}},\"id\":\"1797\",\"type\":\"Rect\"},{\"attributes\":{},\"id\":\"1791\",\"type\":\"CategoricalTicker\"},{\"attributes\":{},\"id\":\"1783\",\"type\":\"CategoricalScale\"},{\"attributes\":{\"axis_label\":\"Predicted\",\"axis_line_color\":null,\"formatter\":{\"id\":\"1863\"},\"major_label_orientation\":1.0,\"major_label_standoff\":0,\"major_label_text_font_size\":\"14px\",\"major_tick_line_color\":null,\"ticker\":{\"id\":\"1788\"}},\"id\":\"1787\",\"type\":\"CategoricalAxis\"},{\"attributes\":{\"source\":{\"id\":\"1774\"},\"text\":{\"field\":\"value\"},\"text_color\":{\"value\":\"white\"},\"x\":{\"field\":\"Predicted\"},\"x_offset\":{\"value\":50},\"y\":{\"field\":\"True\"},\"y_offset\":{\"value\":50}},\"id\":\"1802\",\"type\":\"LabelSet\"},{\"attributes\":{},\"id\":\"1785\",\"type\":\"CategoricalScale\"},{\"attributes\":{\"source\":{\"id\":\"1774\"}},\"id\":\"1800\",\"type\":\"CDSView\"},{\"attributes\":{\"text\":\"Confusion Matrix: Overall accuracy = 84.68%\"},\"id\":\"1777\",\"type\":\"Title\"}],\"root_ids\":[\"1776\"]},\"title\":\"Bokeh Application\",\"version\":\"2.2.3\"}};\n",
       "  var render_items = [{\"docid\":\"13b35699-ce5b-4593-9b82-8aba5c71ff6b\",\"root_ids\":[\"1776\"],\"roots\":{\"1776\":\"4833a9a2-b069-4698-affb-5adb7135a82a\"}}];\n",
       "  root.Bokeh.embed.embed_items_notebook(docs_json, render_items);\n",
       "\n",
       "  }\n",
       "  if (root.Bokeh !== undefined) {\n",
       "    embed_document(root);\n",
       "  } else {\n",
       "    var attempts = 0;\n",
       "    var timer = setInterval(function(root) {\n",
       "      if (root.Bokeh !== undefined) {\n",
       "        clearInterval(timer);\n",
       "        embed_document(root);\n",
       "      } else {\n",
       "        attempts++;\n",
       "        if (attempts > 100) {\n",
       "          clearInterval(timer);\n",
       "          console.log(\"Bokeh: ERROR: Unable to run BokehJS code because BokehJS library is missing\");\n",
       "        }\n",
       "      }\n",
       "    }, 10, root)\n",
       "  }\n",
       "})(window);"
      ],
      "application/vnd.bokehjs_exec.v0+json": ""
     },
     "metadata": {
      "application/vnd.bokehjs_exec.v0+json": {
       "id": "1776"
      }
     },
     "output_type": "display_data"
    },
    {
     "name": "stdout",
     "output_type": "stream",
     "text": [
      "Starting course search\n",
      "Best params from course search: {'learning_rate': 0.1, 'n_estimators': 100}\n",
      "Starting fine search\n",
      "Best params from fine search: {'learning_rate': 0.11000000000000001, 'n_estimators': 101}\n"
     ]
    },
    {
     "data": {
      "text/html": [
       "\n",
       "\n",
       "\n",
       "\n",
       "\n",
       "\n",
       "  <div class=\"bk-root\" id=\"aa142258-74ab-48b1-a9df-b7b4513f6872\" data-root-id=\"1904\"></div>\n"
      ]
     },
     "metadata": {},
     "output_type": "display_data"
    },
    {
     "data": {
      "application/javascript": [
       "(function(root) {\n",
       "  function embed_document(root) {\n",
       "    \n",
       "  var docs_json = {\"64a5d3b3-66e5-4578-a249-b2b78273744c\":{\"roots\":{\"references\":[{\"attributes\":{\"below\":[{\"id\":\"1915\"}],\"center\":[{\"id\":\"1917\"},{\"id\":\"1920\"},{\"id\":\"1930\"}],\"left\":[{\"id\":\"1918\"}],\"plot_height\":300,\"plot_width\":300,\"renderers\":[{\"id\":\"1927\"}],\"title\":{\"id\":\"1905\"},\"toolbar\":{\"id\":\"1922\"},\"x_range\":{\"id\":\"1907\"},\"x_scale\":{\"id\":\"1911\"},\"y_range\":{\"id\":\"1909\"},\"y_scale\":{\"id\":\"1913\"}},\"id\":\"1904\",\"subtype\":\"Figure\",\"type\":\"Plot\"},{\"attributes\":{\"axis\":{\"id\":\"1918\"},\"dimension\":1,\"ticker\":null},\"id\":\"1920\",\"type\":\"Grid\"},{\"attributes\":{\"active_drag\":\"auto\",\"active_inspect\":\"auto\",\"active_multi\":null,\"active_scroll\":\"auto\",\"active_tap\":\"auto\",\"tools\":[{\"id\":\"1921\"}]},\"id\":\"1922\",\"type\":\"Toolbar\"},{\"attributes\":{\"data\":{\"Predicted\":[\"0\",\"1\",\"0\",\"1\"],\"True\":[\"0\",\"0\",\"1\",\"1\"],\"index\":[0,1,2,3],\"value\":[1922,63,317,191]},\"selected\":{\"id\":\"2000\"},\"selection_policy\":{\"id\":\"2001\"}},\"id\":\"1902\",\"type\":\"ColumnDataSource\"},{\"attributes\":{\"axis\":{\"id\":\"1915\"},\"ticker\":null},\"id\":\"1917\",\"type\":\"Grid\"},{\"attributes\":{},\"id\":\"1919\",\"type\":\"CategoricalTicker\"},{\"attributes\":{\"fill_color\":{\"field\":\"value\",\"transform\":{\"id\":\"1903\"}},\"height\":{\"units\":\"data\",\"value\":1},\"line_color\":{\"value\":\"grey\"},\"width\":{\"units\":\"data\",\"value\":1},\"x\":{\"field\":\"Predicted\"},\"y\":{\"field\":\"True\"}},\"id\":\"1925\",\"type\":\"Rect\"},{\"attributes\":{},\"id\":\"1996\",\"type\":\"CategoricalTickFormatter\"},{\"attributes\":{\"palette\":[\"#053061\",\"#2166ac\",\"#4393c3\",\"#92c5de\",\"#d1e5f0\",\"#fddbc7\",\"#f4a582\",\"#d6604d\",\"#b2182b\",\"#67001f\"]},\"id\":\"1903\",\"type\":\"LinearColorMapper\"},{\"attributes\":{},\"id\":\"2000\",\"type\":\"Selection\"},{\"attributes\":{},\"id\":\"1916\",\"type\":\"CategoricalTicker\"},{\"attributes\":{\"factors\":[\"0\",\"1\"]},\"id\":\"1909\",\"type\":\"FactorRange\"},{\"attributes\":{\"factors\":[\"0\",\"1\"]},\"id\":\"1907\",\"type\":\"FactorRange\"},{\"attributes\":{\"source\":{\"id\":\"1902\"}},\"id\":\"1928\",\"type\":\"CDSView\"},{\"attributes\":{\"axis_label\":\"Predicted\",\"axis_line_color\":null,\"formatter\":{\"id\":\"1998\"},\"major_label_orientation\":1.0,\"major_label_standoff\":0,\"major_label_text_font_size\":\"14px\",\"major_tick_line_color\":null,\"ticker\":{\"id\":\"1916\"}},\"id\":\"1915\",\"type\":\"CategoricalAxis\"},{\"attributes\":{\"text\":\"Confusion Matrix: Overall accuracy = 84.76%\"},\"id\":\"1905\",\"type\":\"Title\"},{\"attributes\":{\"axis_label\":\"True\",\"axis_line_color\":null,\"formatter\":{\"id\":\"1996\"},\"major_label_standoff\":0,\"major_label_text_font_size\":\"14px\",\"major_tick_line_color\":null,\"ticker\":{\"id\":\"1919\"}},\"id\":\"1918\",\"type\":\"CategoricalAxis\"},{\"attributes\":{},\"id\":\"1913\",\"type\":\"CategoricalScale\"},{\"attributes\":{\"fill_alpha\":{\"value\":0.1},\"fill_color\":{\"field\":\"value\",\"transform\":{\"id\":\"1903\"}},\"height\":{\"units\":\"data\",\"value\":1},\"line_alpha\":{\"value\":0.1},\"line_color\":{\"value\":\"grey\"},\"width\":{\"units\":\"data\",\"value\":1},\"x\":{\"field\":\"Predicted\"},\"y\":{\"field\":\"True\"}},\"id\":\"1926\",\"type\":\"Rect\"},{\"attributes\":{},\"id\":\"1911\",\"type\":\"CategoricalScale\"},{\"attributes\":{\"callback\":null,\"tooltips\":[[\"True\",\"@{True}\"],[\"Predicted\",\"@{Predicted}\"],[\"Count\",\"@value\"]]},\"id\":\"1921\",\"type\":\"HoverTool\"},{\"attributes\":{},\"id\":\"2001\",\"type\":\"UnionRenderers\"},{\"attributes\":{\"data_source\":{\"id\":\"1902\"},\"glyph\":{\"id\":\"1925\"},\"hover_glyph\":null,\"muted_glyph\":null,\"nonselection_glyph\":{\"id\":\"1926\"},\"selection_glyph\":null,\"view\":{\"id\":\"1928\"}},\"id\":\"1927\",\"type\":\"GlyphRenderer\"},{\"attributes\":{},\"id\":\"1998\",\"type\":\"CategoricalTickFormatter\"},{\"attributes\":{\"source\":{\"id\":\"1902\"},\"text\":{\"field\":\"value\"},\"text_color\":{\"value\":\"white\"},\"x\":{\"field\":\"Predicted\"},\"x_offset\":{\"value\":50},\"y\":{\"field\":\"True\"},\"y_offset\":{\"value\":50}},\"id\":\"1930\",\"type\":\"LabelSet\"}],\"root_ids\":[\"1904\"]},\"title\":\"Bokeh Application\",\"version\":\"2.2.3\"}};\n",
       "  var render_items = [{\"docid\":\"64a5d3b3-66e5-4578-a249-b2b78273744c\",\"root_ids\":[\"1904\"],\"roots\":{\"1904\":\"aa142258-74ab-48b1-a9df-b7b4513f6872\"}}];\n",
       "  root.Bokeh.embed.embed_items_notebook(docs_json, render_items);\n",
       "\n",
       "  }\n",
       "  if (root.Bokeh !== undefined) {\n",
       "    embed_document(root);\n",
       "  } else {\n",
       "    var attempts = 0;\n",
       "    var timer = setInterval(function(root) {\n",
       "      if (root.Bokeh !== undefined) {\n",
       "        clearInterval(timer);\n",
       "        embed_document(root);\n",
       "      } else {\n",
       "        attempts++;\n",
       "        if (attempts > 100) {\n",
       "          clearInterval(timer);\n",
       "          console.log(\"Bokeh: ERROR: Unable to run BokehJS code because BokehJS library is missing\");\n",
       "        }\n",
       "      }\n",
       "    }, 10, root)\n",
       "  }\n",
       "})(window);"
      ],
      "application/vnd.bokehjs_exec.v0+json": ""
     },
     "metadata": {
      "application/vnd.bokehjs_exec.v0+json": {
       "id": "1904"
      }
     },
     "output_type": "display_data"
    }
   ],
   "source": [
    "from sklearn.model_selection import GridSearchCV\n",
    "\n",
    "params = {\n",
    "    'n_estimators': [5, 10, 50, 100],\n",
    "    'learning_rate': [0.001, 0.01, 0.1, 1, 10],\n",
    "}\n",
    "\n",
    "adaboost = AdaBoostClassifier(random_state = 0)\n",
    "\n",
    "clf = GridSearchCV(adaboost, params, error_score=0)\n",
    "search = clf.fit(x_train, y_train)\n",
    "best_params = search.best_params_\n",
    "best_params\n",
    "\n",
    "clf = AdaBoostClassifier(random_state = 0, **best_params)\n",
    "clf = clf.fit(x_train, y_train)\n",
    "clf.score(x_test, y_test)\n",
    "\n",
    "predictions = clf.predict(x_test)\n",
    "plot_confusion_matrix(y_test, predictions)\n",
    "\n",
    "summary = pd.DataFrame(search.cv_results_)\n",
    "param_columns = [col for col in summary.columns if col.startswith('param') and (col != 'params')]\n",
    "\n",
    "metric_col = 'mean_test_score'\n",
    "summary = summary[param_columns + [metric_col]]\n",
    "summary = summary.dropna()\n",
    "for col in summary.columns:\n",
    "    summary[col] = pd.to_numeric(summary[col])\n",
    "\n",
    "formula = f\"{metric_col} ~ {'*'.join(param_columns)}\"\n",
    "\n",
    "model = smf.ols(\n",
    "    formula = formula, \n",
    "    data = summary)\n",
    "\n",
    "fit_model = model.fit()\n",
    "\n",
    "fit_model.summary()\n",
    "\n",
    "run_cell = True\n",
    "int_step = 2\n",
    "float_delta = 0.1\n",
    "float_steps = 4\n",
    "\n",
    "if run_cell:\n",
    "    params = {\n",
    "        'n_estimators': [5, 10, 50, 100],\n",
    "        'learning_rate': [0.001, 0.01, 0.1, 1, 10],\n",
    "    }\n",
    "\n",
    "    adaboost = AdaBoostClassifier(random_state = 0)\n",
    "\n",
    "    print('Starting course search')\n",
    "    clf = GridSearchCV(adaboost, params)\n",
    "    search = clf.fit(x_train, y_train)\n",
    "    print(f'Best params from course search: {search.best_params_}')\n",
    "\n",
    "    fine_params = {}\n",
    "    for param in params:\n",
    "        if isinstance(search.best_params_[param], int):\n",
    "            min_val = search.best_params_[param] - int_step\n",
    "            max_val = search.best_params_[param] + int_step + 1\n",
    "            fine_params[param] = [i for i in range(min_val, max_val)]\n",
    "        else:\n",
    "            min_val = search.best_params_[param]*(1 - float_delta)\n",
    "            max_val = search.best_params_[param]*(1 + float_delta)\n",
    "            fine_params[param] = np.linspace(min_val, max_val, float_steps)\n",
    "\n",
    "    print('Starting fine search')\n",
    "    clf = GridSearchCV(adaboost, fine_params, error_score=0)\n",
    "    search = clf.fit(x_train, y_train)\n",
    "    print(f'Best params from fine search: {search.best_params_}')\n",
    "\n",
    "    clf = AdaBoostClassifier(random_state = 0, **search.best_params_)\n",
    "    clf = clf.fit(x_train, y_train)\n",
    "    clf.score(x_test, y_test)\n",
    "\n",
    "    predictions = clf.predict(x_test)\n",
    "    plot_confusion_matrix(y_test, predictions)"
   ]
  },
  {
   "cell_type": "markdown",
   "id": "facial-hayes",
   "metadata": {},
   "source": [
    "## Neural Networks Accuracy"
   ]
  },
  {
   "cell_type": "code",
   "execution_count": 44,
   "id": "occasional-colombia",
   "metadata": {},
   "outputs": [],
   "source": [
    "import tensorflow as tf\n",
    "\n",
    "from keras.models import Sequential\n",
    "from keras.layers import Dense, Dropout, Input"
   ]
  },
  {
   "cell_type": "code",
   "execution_count": 45,
   "id": "selected-helena",
   "metadata": {},
   "outputs": [
    {
     "ename": "NameError",
     "evalue": "name 'plot_history' is not defined",
     "output_type": "error",
     "traceback": [
      "\u001b[1;31m---------------------------------------------------------------------------\u001b[0m",
      "\u001b[1;31mNameError\u001b[0m                                 Traceback (most recent call last)",
      "\u001b[1;32m<ipython-input-45-7dda7c646c6b>\u001b[0m in \u001b[0;36m<module>\u001b[1;34m\u001b[0m\n\u001b[0;32m     23\u001b[0m           validation_split = 0.2);\n\u001b[0;32m     24\u001b[0m \u001b[1;33m\u001b[0m\u001b[0m\n\u001b[1;32m---> 25\u001b[1;33m \u001b[0mplot_history\u001b[0m\u001b[1;33m(\u001b[0m\u001b[0mhistory\u001b[0m\u001b[1;33m)\u001b[0m\u001b[1;33m\u001b[0m\u001b[1;33m\u001b[0m\u001b[0m\n\u001b[0m",
      "\u001b[1;31mNameError\u001b[0m: name 'plot_history' is not defined"
     ]
    }
   ],
   "source": [
    "train, test = train_test_split(scaled_data, stratify = scaled_data[target], random_state = 809)\n",
    "x_train, y_train = train[features], train[target]\n",
    "x_test, y_test = test[features], test[target]\n",
    "\n",
    "\n",
    "tf.random.set_seed(0)\n",
    "\n",
    "model = Sequential()\n",
    "model.add(Dense(9, activation='relu'))\n",
    "model.add(Dropout(0.3))\n",
    "model.add(Dense(6, activation='relu'))\n",
    "model.add(Dropout(0.1))\n",
    "model.add(Dense(1, activation='sigmoid'))\n",
    "model.compile(loss = 'binary_crossentropy', \n",
    "              optimizer = 'adam', \n",
    "              metrics = ['accuracy'])\n",
    "\n",
    "X, y = train[features].values, train[target].values\n",
    "history = model.fit(X, y, \n",
    "          epochs = 100, \n",
    "          batch_size = 10, \n",
    "          verbose = 0,\n",
    "          validation_split = 0.2);\n",
    "\n",
    "plot_history(history)"
   ]
  },
  {
   "cell_type": "code",
   "execution_count": null,
   "id": "prescription-argument",
   "metadata": {},
   "outputs": [],
   "source": [
    "import pickle\n",
    "from sklearn.ensemble import AdaBoostClassifier\n",
    "\n",
    "adaboost_params = {\n",
    "    'learning_rate': 0.01, \n",
    "    'n_estimators': 100,\n",
    "}\n",
    "\n",
    "clf = AdaBoostClassifier(random_state = 0, **adaboost_params)\n",
    "clf = clf.fit(x_train, y_train)\n",
    "with open('adaboost.pkl', 'wb') as f:\n",
    "    pickle.dump(clf, f)\n",
    "    "
   ]
  },
  {
   "cell_type": "code",
   "execution_count": 47,
   "id": "bright-mortality",
   "metadata": {},
   "outputs": [
    {
     "name": "stdout",
     "output_type": "stream",
     "text": [
      "INFO:tensorflow:Assets written to: neural.tf\\assets\n"
     ]
    }
   ],
   "source": [
    "from keras.models import Sequential, load_model\n",
    "from keras.layers import Dense, Dropout, Input\n",
    "\n",
    "tf.random.set_seed(0)\n",
    "\n",
    "model = Sequential()\n",
    "model.add(Dense(9, activation='relu'))\n",
    "model.add(Dropout(0.3))\n",
    "model.add(Dense(6, activation='relu'))\n",
    "model.add(Dropout(0.1))\n",
    "model.add(Dense(1, activation='sigmoid'))\n",
    "model.compile(loss = 'binary_crossentropy', \n",
    "              optimizer = 'adam', \n",
    "              metrics = ['accuracy'])\n",
    "\n",
    "X, y = train[features].values, train[target].values\n",
    "history = model.fit(X, y, \n",
    "          epochs = 100, \n",
    "          batch_size = 10, \n",
    "          verbose = 0,\n",
    "          validation_split = 0.2);\n",
    "\n",
    "model.save('neural.tf')\n",
    "model2 = load_model('neural.tf')"
   ]
  },
  {
   "cell_type": "code",
   "execution_count": 48,
   "id": "incorrect-professor",
   "metadata": {},
   "outputs": [],
   "source": [
    "import requests\n",
    "\n",
    "neural_url = 'http://127.0.0.1:5000/neural'\n",
    "adaboost_url = 'http://127.0.0.1:5000/adaboost'"
   ]
  },
  {
   "cell_type": "code",
   "execution_count": 49,
   "id": "periodic-mission",
   "metadata": {},
   "outputs": [
    {
     "data": {
      "text/plain": [
       "{'CreditScore': 639.0,\n",
       " 'Age': 22.0,\n",
       " 'Tenure': 4.0,\n",
       " 'Balance': 0.0,\n",
       " 'NumOfProducts': 2.0,\n",
       " 'HasCrCard': 1.0,\n",
       " 'IsActiveMember': 0.0,\n",
       " 'EstimatedSalary': 28188.96,\n",
       " 'France': 1.0,\n",
       " 'Germany': 0.0,\n",
       " 'Spain': 0.0,\n",
       " 'Female': 0.0,\n",
       " 'Male': 1.0}"
      ]
     },
     "execution_count": 49,
     "metadata": {},
     "output_type": "execute_result"
    }
   ],
   "source": [
    "index = 100\n",
    "data_dict = data.loc[index, features].to_dict()\n",
    "data_dict"
   ]
  },
  {
   "cell_type": "code",
   "execution_count": 50,
   "id": "velvet-campbell",
   "metadata": {},
   "outputs": [
    {
     "ename": "ConnectionError",
     "evalue": "HTTPConnectionPool(host='127.0.0.1', port=5000): Max retries exceeded with url: /neural (Caused by NewConnectionError('<urllib3.connection.HTTPConnection object at 0x0000019CB5128790>: Failed to establish a new connection: [WinError 10061] No connection could be made because the target machine actively refused it'))",
     "output_type": "error",
     "traceback": [
      "\u001b[1;31m---------------------------------------------------------------------------\u001b[0m",
      "\u001b[1;31mConnectionRefusedError\u001b[0m                    Traceback (most recent call last)",
      "\u001b[1;32m~\\Anaconda3\\envs\\ml_env\\lib\\site-packages\\urllib3\\connection.py\u001b[0m in \u001b[0;36m_new_conn\u001b[1;34m(self)\u001b[0m\n\u001b[0;32m    168\u001b[0m         \u001b[1;32mtry\u001b[0m\u001b[1;33m:\u001b[0m\u001b[1;33m\u001b[0m\u001b[1;33m\u001b[0m\u001b[0m\n\u001b[1;32m--> 169\u001b[1;33m             conn = connection.create_connection(\n\u001b[0m\u001b[0;32m    170\u001b[0m                 \u001b[1;33m(\u001b[0m\u001b[0mself\u001b[0m\u001b[1;33m.\u001b[0m\u001b[0m_dns_host\u001b[0m\u001b[1;33m,\u001b[0m \u001b[0mself\u001b[0m\u001b[1;33m.\u001b[0m\u001b[0mport\u001b[0m\u001b[1;33m)\u001b[0m\u001b[1;33m,\u001b[0m \u001b[0mself\u001b[0m\u001b[1;33m.\u001b[0m\u001b[0mtimeout\u001b[0m\u001b[1;33m,\u001b[0m \u001b[1;33m**\u001b[0m\u001b[0mextra_kw\u001b[0m\u001b[1;33m\u001b[0m\u001b[1;33m\u001b[0m\u001b[0m\n",
      "\u001b[1;32m~\\Anaconda3\\envs\\ml_env\\lib\\site-packages\\urllib3\\util\\connection.py\u001b[0m in \u001b[0;36mcreate_connection\u001b[1;34m(address, timeout, source_address, socket_options)\u001b[0m\n\u001b[0;32m     95\u001b[0m     \u001b[1;32mif\u001b[0m \u001b[0merr\u001b[0m \u001b[1;32mis\u001b[0m \u001b[1;32mnot\u001b[0m \u001b[1;32mNone\u001b[0m\u001b[1;33m:\u001b[0m\u001b[1;33m\u001b[0m\u001b[1;33m\u001b[0m\u001b[0m\n\u001b[1;32m---> 96\u001b[1;33m         \u001b[1;32mraise\u001b[0m \u001b[0merr\u001b[0m\u001b[1;33m\u001b[0m\u001b[1;33m\u001b[0m\u001b[0m\n\u001b[0m\u001b[0;32m     97\u001b[0m \u001b[1;33m\u001b[0m\u001b[0m\n",
      "\u001b[1;32m~\\Anaconda3\\envs\\ml_env\\lib\\site-packages\\urllib3\\util\\connection.py\u001b[0m in \u001b[0;36mcreate_connection\u001b[1;34m(address, timeout, source_address, socket_options)\u001b[0m\n\u001b[0;32m     85\u001b[0m                 \u001b[0msock\u001b[0m\u001b[1;33m.\u001b[0m\u001b[0mbind\u001b[0m\u001b[1;33m(\u001b[0m\u001b[0msource_address\u001b[0m\u001b[1;33m)\u001b[0m\u001b[1;33m\u001b[0m\u001b[1;33m\u001b[0m\u001b[0m\n\u001b[1;32m---> 86\u001b[1;33m             \u001b[0msock\u001b[0m\u001b[1;33m.\u001b[0m\u001b[0mconnect\u001b[0m\u001b[1;33m(\u001b[0m\u001b[0msa\u001b[0m\u001b[1;33m)\u001b[0m\u001b[1;33m\u001b[0m\u001b[1;33m\u001b[0m\u001b[0m\n\u001b[0m\u001b[0;32m     87\u001b[0m             \u001b[1;32mreturn\u001b[0m \u001b[0msock\u001b[0m\u001b[1;33m\u001b[0m\u001b[1;33m\u001b[0m\u001b[0m\n",
      "\u001b[1;31mConnectionRefusedError\u001b[0m: [WinError 10061] No connection could be made because the target machine actively refused it",
      "\nDuring handling of the above exception, another exception occurred:\n",
      "\u001b[1;31mNewConnectionError\u001b[0m                        Traceback (most recent call last)",
      "\u001b[1;32m~\\Anaconda3\\envs\\ml_env\\lib\\site-packages\\urllib3\\connectionpool.py\u001b[0m in \u001b[0;36murlopen\u001b[1;34m(self, method, url, body, headers, retries, redirect, assert_same_host, timeout, pool_timeout, release_conn, chunked, body_pos, **response_kw)\u001b[0m\n\u001b[0;32m    698\u001b[0m             \u001b[1;31m# Make the request on the httplib connection object.\u001b[0m\u001b[1;33m\u001b[0m\u001b[1;33m\u001b[0m\u001b[1;33m\u001b[0m\u001b[0m\n\u001b[1;32m--> 699\u001b[1;33m             httplib_response = self._make_request(\n\u001b[0m\u001b[0;32m    700\u001b[0m                 \u001b[0mconn\u001b[0m\u001b[1;33m,\u001b[0m\u001b[1;33m\u001b[0m\u001b[1;33m\u001b[0m\u001b[0m\n",
      "\u001b[1;32m~\\Anaconda3\\envs\\ml_env\\lib\\site-packages\\urllib3\\connectionpool.py\u001b[0m in \u001b[0;36m_make_request\u001b[1;34m(self, conn, method, url, timeout, chunked, **httplib_request_kw)\u001b[0m\n\u001b[0;32m    393\u001b[0m             \u001b[1;32melse\u001b[0m\u001b[1;33m:\u001b[0m\u001b[1;33m\u001b[0m\u001b[1;33m\u001b[0m\u001b[0m\n\u001b[1;32m--> 394\u001b[1;33m                 \u001b[0mconn\u001b[0m\u001b[1;33m.\u001b[0m\u001b[0mrequest\u001b[0m\u001b[1;33m(\u001b[0m\u001b[0mmethod\u001b[0m\u001b[1;33m,\u001b[0m \u001b[0murl\u001b[0m\u001b[1;33m,\u001b[0m \u001b[1;33m**\u001b[0m\u001b[0mhttplib_request_kw\u001b[0m\u001b[1;33m)\u001b[0m\u001b[1;33m\u001b[0m\u001b[1;33m\u001b[0m\u001b[0m\n\u001b[0m\u001b[0;32m    395\u001b[0m \u001b[1;33m\u001b[0m\u001b[0m\n",
      "\u001b[1;32m~\\Anaconda3\\envs\\ml_env\\lib\\site-packages\\urllib3\\connection.py\u001b[0m in \u001b[0;36mrequest\u001b[1;34m(self, method, url, body, headers)\u001b[0m\n\u001b[0;32m    233\u001b[0m             \u001b[0mheaders\u001b[0m\u001b[1;33m[\u001b[0m\u001b[1;34m\"User-Agent\"\u001b[0m\u001b[1;33m]\u001b[0m \u001b[1;33m=\u001b[0m \u001b[0m_get_default_user_agent\u001b[0m\u001b[1;33m(\u001b[0m\u001b[1;33m)\u001b[0m\u001b[1;33m\u001b[0m\u001b[1;33m\u001b[0m\u001b[0m\n\u001b[1;32m--> 234\u001b[1;33m         \u001b[0msuper\u001b[0m\u001b[1;33m(\u001b[0m\u001b[0mHTTPConnection\u001b[0m\u001b[1;33m,\u001b[0m \u001b[0mself\u001b[0m\u001b[1;33m)\u001b[0m\u001b[1;33m.\u001b[0m\u001b[0mrequest\u001b[0m\u001b[1;33m(\u001b[0m\u001b[0mmethod\u001b[0m\u001b[1;33m,\u001b[0m \u001b[0murl\u001b[0m\u001b[1;33m,\u001b[0m \u001b[0mbody\u001b[0m\u001b[1;33m=\u001b[0m\u001b[0mbody\u001b[0m\u001b[1;33m,\u001b[0m \u001b[0mheaders\u001b[0m\u001b[1;33m=\u001b[0m\u001b[0mheaders\u001b[0m\u001b[1;33m)\u001b[0m\u001b[1;33m\u001b[0m\u001b[1;33m\u001b[0m\u001b[0m\n\u001b[0m\u001b[0;32m    235\u001b[0m \u001b[1;33m\u001b[0m\u001b[0m\n",
      "\u001b[1;32m~\\Anaconda3\\envs\\ml_env\\lib\\http\\client.py\u001b[0m in \u001b[0;36mrequest\u001b[1;34m(self, method, url, body, headers, encode_chunked)\u001b[0m\n\u001b[0;32m   1254\u001b[0m         \u001b[1;34m\"\"\"Send a complete request to the server.\"\"\"\u001b[0m\u001b[1;33m\u001b[0m\u001b[1;33m\u001b[0m\u001b[0m\n\u001b[1;32m-> 1255\u001b[1;33m         \u001b[0mself\u001b[0m\u001b[1;33m.\u001b[0m\u001b[0m_send_request\u001b[0m\u001b[1;33m(\u001b[0m\u001b[0mmethod\u001b[0m\u001b[1;33m,\u001b[0m \u001b[0murl\u001b[0m\u001b[1;33m,\u001b[0m \u001b[0mbody\u001b[0m\u001b[1;33m,\u001b[0m \u001b[0mheaders\u001b[0m\u001b[1;33m,\u001b[0m \u001b[0mencode_chunked\u001b[0m\u001b[1;33m)\u001b[0m\u001b[1;33m\u001b[0m\u001b[1;33m\u001b[0m\u001b[0m\n\u001b[0m\u001b[0;32m   1256\u001b[0m \u001b[1;33m\u001b[0m\u001b[0m\n",
      "\u001b[1;32m~\\Anaconda3\\envs\\ml_env\\lib\\http\\client.py\u001b[0m in \u001b[0;36m_send_request\u001b[1;34m(self, method, url, body, headers, encode_chunked)\u001b[0m\n\u001b[0;32m   1300\u001b[0m             \u001b[0mbody\u001b[0m \u001b[1;33m=\u001b[0m \u001b[0m_encode\u001b[0m\u001b[1;33m(\u001b[0m\u001b[0mbody\u001b[0m\u001b[1;33m,\u001b[0m \u001b[1;34m'body'\u001b[0m\u001b[1;33m)\u001b[0m\u001b[1;33m\u001b[0m\u001b[1;33m\u001b[0m\u001b[0m\n\u001b[1;32m-> 1301\u001b[1;33m         \u001b[0mself\u001b[0m\u001b[1;33m.\u001b[0m\u001b[0mendheaders\u001b[0m\u001b[1;33m(\u001b[0m\u001b[0mbody\u001b[0m\u001b[1;33m,\u001b[0m \u001b[0mencode_chunked\u001b[0m\u001b[1;33m=\u001b[0m\u001b[0mencode_chunked\u001b[0m\u001b[1;33m)\u001b[0m\u001b[1;33m\u001b[0m\u001b[1;33m\u001b[0m\u001b[0m\n\u001b[0m\u001b[0;32m   1302\u001b[0m \u001b[1;33m\u001b[0m\u001b[0m\n",
      "\u001b[1;32m~\\Anaconda3\\envs\\ml_env\\lib\\http\\client.py\u001b[0m in \u001b[0;36mendheaders\u001b[1;34m(self, message_body, encode_chunked)\u001b[0m\n\u001b[0;32m   1249\u001b[0m             \u001b[1;32mraise\u001b[0m \u001b[0mCannotSendHeader\u001b[0m\u001b[1;33m(\u001b[0m\u001b[1;33m)\u001b[0m\u001b[1;33m\u001b[0m\u001b[1;33m\u001b[0m\u001b[0m\n\u001b[1;32m-> 1250\u001b[1;33m         \u001b[0mself\u001b[0m\u001b[1;33m.\u001b[0m\u001b[0m_send_output\u001b[0m\u001b[1;33m(\u001b[0m\u001b[0mmessage_body\u001b[0m\u001b[1;33m,\u001b[0m \u001b[0mencode_chunked\u001b[0m\u001b[1;33m=\u001b[0m\u001b[0mencode_chunked\u001b[0m\u001b[1;33m)\u001b[0m\u001b[1;33m\u001b[0m\u001b[1;33m\u001b[0m\u001b[0m\n\u001b[0m\u001b[0;32m   1251\u001b[0m \u001b[1;33m\u001b[0m\u001b[0m\n",
      "\u001b[1;32m~\\Anaconda3\\envs\\ml_env\\lib\\http\\client.py\u001b[0m in \u001b[0;36m_send_output\u001b[1;34m(self, message_body, encode_chunked)\u001b[0m\n\u001b[0;32m   1009\u001b[0m         \u001b[1;32mdel\u001b[0m \u001b[0mself\u001b[0m\u001b[1;33m.\u001b[0m\u001b[0m_buffer\u001b[0m\u001b[1;33m[\u001b[0m\u001b[1;33m:\u001b[0m\u001b[1;33m]\u001b[0m\u001b[1;33m\u001b[0m\u001b[1;33m\u001b[0m\u001b[0m\n\u001b[1;32m-> 1010\u001b[1;33m         \u001b[0mself\u001b[0m\u001b[1;33m.\u001b[0m\u001b[0msend\u001b[0m\u001b[1;33m(\u001b[0m\u001b[0mmsg\u001b[0m\u001b[1;33m)\u001b[0m\u001b[1;33m\u001b[0m\u001b[1;33m\u001b[0m\u001b[0m\n\u001b[0m\u001b[0;32m   1011\u001b[0m \u001b[1;33m\u001b[0m\u001b[0m\n",
      "\u001b[1;32m~\\Anaconda3\\envs\\ml_env\\lib\\http\\client.py\u001b[0m in \u001b[0;36msend\u001b[1;34m(self, data)\u001b[0m\n\u001b[0;32m    949\u001b[0m             \u001b[1;32mif\u001b[0m \u001b[0mself\u001b[0m\u001b[1;33m.\u001b[0m\u001b[0mauto_open\u001b[0m\u001b[1;33m:\u001b[0m\u001b[1;33m\u001b[0m\u001b[1;33m\u001b[0m\u001b[0m\n\u001b[1;32m--> 950\u001b[1;33m                 \u001b[0mself\u001b[0m\u001b[1;33m.\u001b[0m\u001b[0mconnect\u001b[0m\u001b[1;33m(\u001b[0m\u001b[1;33m)\u001b[0m\u001b[1;33m\u001b[0m\u001b[1;33m\u001b[0m\u001b[0m\n\u001b[0m\u001b[0;32m    951\u001b[0m             \u001b[1;32melse\u001b[0m\u001b[1;33m:\u001b[0m\u001b[1;33m\u001b[0m\u001b[1;33m\u001b[0m\u001b[0m\n",
      "\u001b[1;32m~\\Anaconda3\\envs\\ml_env\\lib\\site-packages\\urllib3\\connection.py\u001b[0m in \u001b[0;36mconnect\u001b[1;34m(self)\u001b[0m\n\u001b[0;32m    199\u001b[0m     \u001b[1;32mdef\u001b[0m \u001b[0mconnect\u001b[0m\u001b[1;33m(\u001b[0m\u001b[0mself\u001b[0m\u001b[1;33m)\u001b[0m\u001b[1;33m:\u001b[0m\u001b[1;33m\u001b[0m\u001b[1;33m\u001b[0m\u001b[0m\n\u001b[1;32m--> 200\u001b[1;33m         \u001b[0mconn\u001b[0m \u001b[1;33m=\u001b[0m \u001b[0mself\u001b[0m\u001b[1;33m.\u001b[0m\u001b[0m_new_conn\u001b[0m\u001b[1;33m(\u001b[0m\u001b[1;33m)\u001b[0m\u001b[1;33m\u001b[0m\u001b[1;33m\u001b[0m\u001b[0m\n\u001b[0m\u001b[0;32m    201\u001b[0m         \u001b[0mself\u001b[0m\u001b[1;33m.\u001b[0m\u001b[0m_prepare_conn\u001b[0m\u001b[1;33m(\u001b[0m\u001b[0mconn\u001b[0m\u001b[1;33m)\u001b[0m\u001b[1;33m\u001b[0m\u001b[1;33m\u001b[0m\u001b[0m\n",
      "\u001b[1;32m~\\Anaconda3\\envs\\ml_env\\lib\\site-packages\\urllib3\\connection.py\u001b[0m in \u001b[0;36m_new_conn\u001b[1;34m(self)\u001b[0m\n\u001b[0;32m    180\u001b[0m         \u001b[1;32mexcept\u001b[0m \u001b[0mSocketError\u001b[0m \u001b[1;32mas\u001b[0m \u001b[0me\u001b[0m\u001b[1;33m:\u001b[0m\u001b[1;33m\u001b[0m\u001b[1;33m\u001b[0m\u001b[0m\n\u001b[1;32m--> 181\u001b[1;33m             raise NewConnectionError(\n\u001b[0m\u001b[0;32m    182\u001b[0m                 \u001b[0mself\u001b[0m\u001b[1;33m,\u001b[0m \u001b[1;34m\"Failed to establish a new connection: %s\"\u001b[0m \u001b[1;33m%\u001b[0m \u001b[0me\u001b[0m\u001b[1;33m\u001b[0m\u001b[1;33m\u001b[0m\u001b[0m\n",
      "\u001b[1;31mNewConnectionError\u001b[0m: <urllib3.connection.HTTPConnection object at 0x0000019CB5128790>: Failed to establish a new connection: [WinError 10061] No connection could be made because the target machine actively refused it",
      "\nDuring handling of the above exception, another exception occurred:\n",
      "\u001b[1;31mMaxRetryError\u001b[0m                             Traceback (most recent call last)",
      "\u001b[1;32m~\\Anaconda3\\envs\\ml_env\\lib\\site-packages\\requests\\adapters.py\u001b[0m in \u001b[0;36msend\u001b[1;34m(self, request, stream, timeout, verify, cert, proxies)\u001b[0m\n\u001b[0;32m    438\u001b[0m             \u001b[1;32mif\u001b[0m \u001b[1;32mnot\u001b[0m \u001b[0mchunked\u001b[0m\u001b[1;33m:\u001b[0m\u001b[1;33m\u001b[0m\u001b[1;33m\u001b[0m\u001b[0m\n\u001b[1;32m--> 439\u001b[1;33m                 resp = conn.urlopen(\n\u001b[0m\u001b[0;32m    440\u001b[0m                     \u001b[0mmethod\u001b[0m\u001b[1;33m=\u001b[0m\u001b[0mrequest\u001b[0m\u001b[1;33m.\u001b[0m\u001b[0mmethod\u001b[0m\u001b[1;33m,\u001b[0m\u001b[1;33m\u001b[0m\u001b[1;33m\u001b[0m\u001b[0m\n",
      "\u001b[1;32m~\\Anaconda3\\envs\\ml_env\\lib\\site-packages\\urllib3\\connectionpool.py\u001b[0m in \u001b[0;36murlopen\u001b[1;34m(self, method, url, body, headers, retries, redirect, assert_same_host, timeout, pool_timeout, release_conn, chunked, body_pos, **response_kw)\u001b[0m\n\u001b[0;32m    754\u001b[0m \u001b[1;33m\u001b[0m\u001b[0m\n\u001b[1;32m--> 755\u001b[1;33m             retries = retries.increment(\n\u001b[0m\u001b[0;32m    756\u001b[0m                 \u001b[0mmethod\u001b[0m\u001b[1;33m,\u001b[0m \u001b[0murl\u001b[0m\u001b[1;33m,\u001b[0m \u001b[0merror\u001b[0m\u001b[1;33m=\u001b[0m\u001b[0me\u001b[0m\u001b[1;33m,\u001b[0m \u001b[0m_pool\u001b[0m\u001b[1;33m=\u001b[0m\u001b[0mself\u001b[0m\u001b[1;33m,\u001b[0m \u001b[0m_stacktrace\u001b[0m\u001b[1;33m=\u001b[0m\u001b[0msys\u001b[0m\u001b[1;33m.\u001b[0m\u001b[0mexc_info\u001b[0m\u001b[1;33m(\u001b[0m\u001b[1;33m)\u001b[0m\u001b[1;33m[\u001b[0m\u001b[1;36m2\u001b[0m\u001b[1;33m]\u001b[0m\u001b[1;33m\u001b[0m\u001b[1;33m\u001b[0m\u001b[0m\n",
      "\u001b[1;32m~\\Anaconda3\\envs\\ml_env\\lib\\site-packages\\urllib3\\util\\retry.py\u001b[0m in \u001b[0;36mincrement\u001b[1;34m(self, method, url, response, error, _pool, _stacktrace)\u001b[0m\n\u001b[0;32m    572\u001b[0m         \u001b[1;32mif\u001b[0m \u001b[0mnew_retry\u001b[0m\u001b[1;33m.\u001b[0m\u001b[0mis_exhausted\u001b[0m\u001b[1;33m(\u001b[0m\u001b[1;33m)\u001b[0m\u001b[1;33m:\u001b[0m\u001b[1;33m\u001b[0m\u001b[1;33m\u001b[0m\u001b[0m\n\u001b[1;32m--> 573\u001b[1;33m             \u001b[1;32mraise\u001b[0m \u001b[0mMaxRetryError\u001b[0m\u001b[1;33m(\u001b[0m\u001b[0m_pool\u001b[0m\u001b[1;33m,\u001b[0m \u001b[0murl\u001b[0m\u001b[1;33m,\u001b[0m \u001b[0merror\u001b[0m \u001b[1;32mor\u001b[0m \u001b[0mResponseError\u001b[0m\u001b[1;33m(\u001b[0m\u001b[0mcause\u001b[0m\u001b[1;33m)\u001b[0m\u001b[1;33m)\u001b[0m\u001b[1;33m\u001b[0m\u001b[1;33m\u001b[0m\u001b[0m\n\u001b[0m\u001b[0;32m    574\u001b[0m \u001b[1;33m\u001b[0m\u001b[0m\n",
      "\u001b[1;31mMaxRetryError\u001b[0m: HTTPConnectionPool(host='127.0.0.1', port=5000): Max retries exceeded with url: /neural (Caused by NewConnectionError('<urllib3.connection.HTTPConnection object at 0x0000019CB5128790>: Failed to establish a new connection: [WinError 10061] No connection could be made because the target machine actively refused it'))",
      "\nDuring handling of the above exception, another exception occurred:\n",
      "\u001b[1;31mConnectionError\u001b[0m                           Traceback (most recent call last)",
      "\u001b[1;32m<ipython-input-50-086a902e8c19>\u001b[0m in \u001b[0;36m<module>\u001b[1;34m\u001b[0m\n\u001b[1;32m----> 1\u001b[1;33m \u001b[0mrequests\u001b[0m\u001b[1;33m.\u001b[0m\u001b[0mpost\u001b[0m\u001b[1;33m(\u001b[0m\u001b[0mneural_url\u001b[0m\u001b[1;33m,\u001b[0m \u001b[0mjson\u001b[0m \u001b[1;33m=\u001b[0m \u001b[0mdata_dict\u001b[0m\u001b[1;33m)\u001b[0m\u001b[1;33m\u001b[0m\u001b[1;33m\u001b[0m\u001b[0m\n\u001b[0m",
      "\u001b[1;32m~\\Anaconda3\\envs\\ml_env\\lib\\site-packages\\requests\\api.py\u001b[0m in \u001b[0;36mpost\u001b[1;34m(url, data, json, **kwargs)\u001b[0m\n\u001b[0;32m    117\u001b[0m     \"\"\"\n\u001b[0;32m    118\u001b[0m \u001b[1;33m\u001b[0m\u001b[0m\n\u001b[1;32m--> 119\u001b[1;33m     \u001b[1;32mreturn\u001b[0m \u001b[0mrequest\u001b[0m\u001b[1;33m(\u001b[0m\u001b[1;34m'post'\u001b[0m\u001b[1;33m,\u001b[0m \u001b[0murl\u001b[0m\u001b[1;33m,\u001b[0m \u001b[0mdata\u001b[0m\u001b[1;33m=\u001b[0m\u001b[0mdata\u001b[0m\u001b[1;33m,\u001b[0m \u001b[0mjson\u001b[0m\u001b[1;33m=\u001b[0m\u001b[0mjson\u001b[0m\u001b[1;33m,\u001b[0m \u001b[1;33m**\u001b[0m\u001b[0mkwargs\u001b[0m\u001b[1;33m)\u001b[0m\u001b[1;33m\u001b[0m\u001b[1;33m\u001b[0m\u001b[0m\n\u001b[0m\u001b[0;32m    120\u001b[0m \u001b[1;33m\u001b[0m\u001b[0m\n\u001b[0;32m    121\u001b[0m \u001b[1;33m\u001b[0m\u001b[0m\n",
      "\u001b[1;32m~\\Anaconda3\\envs\\ml_env\\lib\\site-packages\\requests\\api.py\u001b[0m in \u001b[0;36mrequest\u001b[1;34m(method, url, **kwargs)\u001b[0m\n\u001b[0;32m     59\u001b[0m     \u001b[1;31m# cases, and look like a memory leak in others.\u001b[0m\u001b[1;33m\u001b[0m\u001b[1;33m\u001b[0m\u001b[1;33m\u001b[0m\u001b[0m\n\u001b[0;32m     60\u001b[0m     \u001b[1;32mwith\u001b[0m \u001b[0msessions\u001b[0m\u001b[1;33m.\u001b[0m\u001b[0mSession\u001b[0m\u001b[1;33m(\u001b[0m\u001b[1;33m)\u001b[0m \u001b[1;32mas\u001b[0m \u001b[0msession\u001b[0m\u001b[1;33m:\u001b[0m\u001b[1;33m\u001b[0m\u001b[1;33m\u001b[0m\u001b[0m\n\u001b[1;32m---> 61\u001b[1;33m         \u001b[1;32mreturn\u001b[0m \u001b[0msession\u001b[0m\u001b[1;33m.\u001b[0m\u001b[0mrequest\u001b[0m\u001b[1;33m(\u001b[0m\u001b[0mmethod\u001b[0m\u001b[1;33m=\u001b[0m\u001b[0mmethod\u001b[0m\u001b[1;33m,\u001b[0m \u001b[0murl\u001b[0m\u001b[1;33m=\u001b[0m\u001b[0murl\u001b[0m\u001b[1;33m,\u001b[0m \u001b[1;33m**\u001b[0m\u001b[0mkwargs\u001b[0m\u001b[1;33m)\u001b[0m\u001b[1;33m\u001b[0m\u001b[1;33m\u001b[0m\u001b[0m\n\u001b[0m\u001b[0;32m     62\u001b[0m \u001b[1;33m\u001b[0m\u001b[0m\n\u001b[0;32m     63\u001b[0m \u001b[1;33m\u001b[0m\u001b[0m\n",
      "\u001b[1;32m~\\Anaconda3\\envs\\ml_env\\lib\\site-packages\\requests\\sessions.py\u001b[0m in \u001b[0;36mrequest\u001b[1;34m(self, method, url, params, data, headers, cookies, files, auth, timeout, allow_redirects, proxies, hooks, stream, verify, cert, json)\u001b[0m\n\u001b[0;32m    540\u001b[0m         }\n\u001b[0;32m    541\u001b[0m         \u001b[0msend_kwargs\u001b[0m\u001b[1;33m.\u001b[0m\u001b[0mupdate\u001b[0m\u001b[1;33m(\u001b[0m\u001b[0msettings\u001b[0m\u001b[1;33m)\u001b[0m\u001b[1;33m\u001b[0m\u001b[1;33m\u001b[0m\u001b[0m\n\u001b[1;32m--> 542\u001b[1;33m         \u001b[0mresp\u001b[0m \u001b[1;33m=\u001b[0m \u001b[0mself\u001b[0m\u001b[1;33m.\u001b[0m\u001b[0msend\u001b[0m\u001b[1;33m(\u001b[0m\u001b[0mprep\u001b[0m\u001b[1;33m,\u001b[0m \u001b[1;33m**\u001b[0m\u001b[0msend_kwargs\u001b[0m\u001b[1;33m)\u001b[0m\u001b[1;33m\u001b[0m\u001b[1;33m\u001b[0m\u001b[0m\n\u001b[0m\u001b[0;32m    543\u001b[0m \u001b[1;33m\u001b[0m\u001b[0m\n\u001b[0;32m    544\u001b[0m         \u001b[1;32mreturn\u001b[0m \u001b[0mresp\u001b[0m\u001b[1;33m\u001b[0m\u001b[1;33m\u001b[0m\u001b[0m\n",
      "\u001b[1;32m~\\Anaconda3\\envs\\ml_env\\lib\\site-packages\\requests\\sessions.py\u001b[0m in \u001b[0;36msend\u001b[1;34m(self, request, **kwargs)\u001b[0m\n\u001b[0;32m    653\u001b[0m \u001b[1;33m\u001b[0m\u001b[0m\n\u001b[0;32m    654\u001b[0m         \u001b[1;31m# Send the request\u001b[0m\u001b[1;33m\u001b[0m\u001b[1;33m\u001b[0m\u001b[1;33m\u001b[0m\u001b[0m\n\u001b[1;32m--> 655\u001b[1;33m         \u001b[0mr\u001b[0m \u001b[1;33m=\u001b[0m \u001b[0madapter\u001b[0m\u001b[1;33m.\u001b[0m\u001b[0msend\u001b[0m\u001b[1;33m(\u001b[0m\u001b[0mrequest\u001b[0m\u001b[1;33m,\u001b[0m \u001b[1;33m**\u001b[0m\u001b[0mkwargs\u001b[0m\u001b[1;33m)\u001b[0m\u001b[1;33m\u001b[0m\u001b[1;33m\u001b[0m\u001b[0m\n\u001b[0m\u001b[0;32m    656\u001b[0m \u001b[1;33m\u001b[0m\u001b[0m\n\u001b[0;32m    657\u001b[0m         \u001b[1;31m# Total elapsed time of the request (approximately)\u001b[0m\u001b[1;33m\u001b[0m\u001b[1;33m\u001b[0m\u001b[1;33m\u001b[0m\u001b[0m\n",
      "\u001b[1;32m~\\Anaconda3\\envs\\ml_env\\lib\\site-packages\\requests\\adapters.py\u001b[0m in \u001b[0;36msend\u001b[1;34m(self, request, stream, timeout, verify, cert, proxies)\u001b[0m\n\u001b[0;32m    514\u001b[0m                 \u001b[1;32mraise\u001b[0m \u001b[0mSSLError\u001b[0m\u001b[1;33m(\u001b[0m\u001b[0me\u001b[0m\u001b[1;33m,\u001b[0m \u001b[0mrequest\u001b[0m\u001b[1;33m=\u001b[0m\u001b[0mrequest\u001b[0m\u001b[1;33m)\u001b[0m\u001b[1;33m\u001b[0m\u001b[1;33m\u001b[0m\u001b[0m\n\u001b[0;32m    515\u001b[0m \u001b[1;33m\u001b[0m\u001b[0m\n\u001b[1;32m--> 516\u001b[1;33m             \u001b[1;32mraise\u001b[0m \u001b[0mConnectionError\u001b[0m\u001b[1;33m(\u001b[0m\u001b[0me\u001b[0m\u001b[1;33m,\u001b[0m \u001b[0mrequest\u001b[0m\u001b[1;33m=\u001b[0m\u001b[0mrequest\u001b[0m\u001b[1;33m)\u001b[0m\u001b[1;33m\u001b[0m\u001b[1;33m\u001b[0m\u001b[0m\n\u001b[0m\u001b[0;32m    517\u001b[0m \u001b[1;33m\u001b[0m\u001b[0m\n\u001b[0;32m    518\u001b[0m         \u001b[1;32mexcept\u001b[0m \u001b[0mClosedPoolError\u001b[0m \u001b[1;32mas\u001b[0m \u001b[0me\u001b[0m\u001b[1;33m:\u001b[0m\u001b[1;33m\u001b[0m\u001b[1;33m\u001b[0m\u001b[0m\n",
      "\u001b[1;31mConnectionError\u001b[0m: HTTPConnectionPool(host='127.0.0.1', port=5000): Max retries exceeded with url: /neural (Caused by NewConnectionError('<urllib3.connection.HTTPConnection object at 0x0000019CB5128790>: Failed to establish a new connection: [WinError 10061] No connection could be made because the target machine actively refused it'))"
     ]
    }
   ],
   "source": [
    "requests.post(neural_url, json = data_dict)"
   ]
  },
  {
   "cell_type": "code",
   "execution_count": null,
   "id": "mathematical-township",
   "metadata": {},
   "outputs": [],
   "source": [
    "response = requests.post(neural_url, json = data_dict)\n",
    "response.json()"
   ]
  },
  {
   "cell_type": "code",
   "execution_count": null,
   "id": "shared-glenn",
   "metadata": {},
   "outputs": [],
   "source": [
    "response = requests.post(neural_url, json = data_dict)\n",
    "nn_prediction = response.json()\n",
    "\n",
    "response = requests.post(adaboost_url, json = data_dict)\n",
    "ab_prediction = response.json()\n",
    "\n",
    "print(f'{index}: NN -> {nn_prediction}, Ada -> {ab_prediction}')   "
   ]
  },
  {
   "cell_type": "code",
   "execution_count": null,
   "id": "incorrect-preparation",
   "metadata": {},
   "outputs": [],
   "source": [
    "prediction_comparison = {}\n",
    "for index in data.index:\n",
    "    if (index % 25) == 0:\n",
    "        print(f'Starting index {index}')\n",
    "    data_dict = data.loc[index, features].to_dict()\n",
    "\n",
    "    response = requests.post(neural_url, json = data_dict)\n",
    "    nn_prediction = response.json()\n",
    "\n",
    "    response = requests.post(adaboost_url, json = data_dict)\n",
    "    ab_prediction = response.json()\n",
    "    \n",
    "    prediction_comparison[index] = {\n",
    "        'NN': nn_prediction,\n",
    "        'AdaBoost': ab_prediction,\n",
    "        'Actual': data.loc[index, target]\n",
    "    }\n",
    "\n",
    "prediction_comparison = pd.DataFrame().from_dict(prediction_comparison, orient = 'index')   "
   ]
  },
  {
   "cell_type": "code",
   "execution_count": null,
   "id": "obvious-beginning",
   "metadata": {},
   "outputs": [],
   "source": [
    "(prediction_comparison['NN'] == prediction_comparison['Actual']).sum()/len(data)"
   ]
  },
  {
   "cell_type": "code",
   "execution_count": null,
   "id": "incorporate-skill",
   "metadata": {},
   "outputs": [],
   "source": [
    "(prediction_comparison['AdaBoost'] == prediction_comparison['Actual']).sum()/len(data)"
   ]
  },
  {
   "cell_type": "code",
   "execution_count": null,
   "id": "pregnant-vector",
   "metadata": {},
   "outputs": [],
   "source": []
  }
 ],
 "metadata": {
  "kernelspec": {
   "display_name": "Python 3",
   "language": "python",
   "name": "python3"
  },
  "language_info": {
   "codemirror_mode": {
    "name": "ipython",
    "version": 3
   },
   "file_extension": ".py",
   "mimetype": "text/x-python",
   "name": "python",
   "nbconvert_exporter": "python",
   "pygments_lexer": "ipython3",
   "version": "3.8.5"
  }
 },
 "nbformat": 4,
 "nbformat_minor": 5
}
